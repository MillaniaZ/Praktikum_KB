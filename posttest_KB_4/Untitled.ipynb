{
 "cells": [
  {
   "cell_type": "markdown",
   "id": "44a60e39",
   "metadata": {},
   "source": [
    "POSTTEST 4\n",
    "Nama : Millania Zahroh\n",
    "NIM : 2009106140"
   ]
  },
  {
   "cell_type": "code",
   "execution_count": 1,
   "id": "24933c74",
   "metadata": {},
   "outputs": [],
   "source": [
    "import matplotlib.pyplot as plt\n",
    "import seaborn as sns\n",
    "import pandas as pd\n",
    "import numpy as np\n",
    "\n",
    "# untuk Data Split\n",
    "from sklearn.model_selection import train_test_split #testing dan training data\n",
    "# untuk Data Transforming\n",
    "from sklearn.preprocessing import StandardScaler #standarisasi\n",
    "from sklearn.preprocessing import MinMaxScaler #normalisasi\n",
    "# untuk Data Cleaning\n",
    "from sklearn.impute import SimpleImputer #subtitusi nilai\n",
    "# untuk Data Encoding\n",
    "from sklearn.preprocessing import OrdinalEncoder #encoder\n",
    "from sklearn.preprocessing import OneHotEncoder #onehot"
   ]
  },
  {
   "cell_type": "code",
   "execution_count": 3,
   "id": "673f49db",
   "metadata": {},
   "outputs": [
    {
     "data": {
      "text/html": [
       "<div>\n",
       "<style scoped>\n",
       "    .dataframe tbody tr th:only-of-type {\n",
       "        vertical-align: middle;\n",
       "    }\n",
       "\n",
       "    .dataframe tbody tr th {\n",
       "        vertical-align: top;\n",
       "    }\n",
       "\n",
       "    .dataframe thead th {\n",
       "        text-align: right;\n",
       "    }\n",
       "</style>\n",
       "<table border=\"1\" class=\"dataframe\">\n",
       "  <thead>\n",
       "    <tr style=\"text-align: right;\">\n",
       "      <th></th>\n",
       "      <th>User ID</th>\n",
       "      <th>Gender</th>\n",
       "      <th>Age</th>\n",
       "      <th>EstimatedSalary</th>\n",
       "      <th>Purchased</th>\n",
       "    </tr>\n",
       "  </thead>\n",
       "  <tbody>\n",
       "    <tr>\n",
       "      <th>0</th>\n",
       "      <td>15624510</td>\n",
       "      <td>Male</td>\n",
       "      <td>19</td>\n",
       "      <td>19000</td>\n",
       "      <td>0</td>\n",
       "    </tr>\n",
       "    <tr>\n",
       "      <th>1</th>\n",
       "      <td>15810944</td>\n",
       "      <td>Male</td>\n",
       "      <td>35</td>\n",
       "      <td>20000</td>\n",
       "      <td>0</td>\n",
       "    </tr>\n",
       "    <tr>\n",
       "      <th>2</th>\n",
       "      <td>15668575</td>\n",
       "      <td>Female</td>\n",
       "      <td>26</td>\n",
       "      <td>43000</td>\n",
       "      <td>0</td>\n",
       "    </tr>\n",
       "    <tr>\n",
       "      <th>3</th>\n",
       "      <td>15603246</td>\n",
       "      <td>Female</td>\n",
       "      <td>27</td>\n",
       "      <td>57000</td>\n",
       "      <td>0</td>\n",
       "    </tr>\n",
       "    <tr>\n",
       "      <th>4</th>\n",
       "      <td>15804002</td>\n",
       "      <td>Male</td>\n",
       "      <td>19</td>\n",
       "      <td>76000</td>\n",
       "      <td>0</td>\n",
       "    </tr>\n",
       "  </tbody>\n",
       "</table>\n",
       "</div>"
      ],
      "text/plain": [
       "    User ID  Gender  Age  EstimatedSalary  Purchased\n",
       "0  15624510    Male   19            19000          0\n",
       "1  15810944    Male   35            20000          0\n",
       "2  15668575  Female   26            43000          0\n",
       "3  15603246  Female   27            57000          0\n",
       "4  15804002    Male   19            76000          0"
      ]
     },
     "execution_count": 3,
     "metadata": {},
     "output_type": "execute_result"
    }
   ],
   "source": [
    "df = pd.read_csv('Social_Network_Ads.csv')\n",
    "df.head()"
   ]
  },
  {
   "cell_type": "code",
   "execution_count": 4,
   "id": "b40604b7",
   "metadata": {},
   "outputs": [
    {
     "name": "stdout",
     "output_type": "stream",
     "text": [
      "<class 'pandas.core.frame.DataFrame'>\n",
      "RangeIndex: 400 entries, 0 to 399\n",
      "Data columns (total 5 columns):\n",
      " #   Column           Non-Null Count  Dtype \n",
      "---  ------           --------------  ----- \n",
      " 0   User ID          400 non-null    int64 \n",
      " 1   Gender           400 non-null    object\n",
      " 2   Age              400 non-null    int64 \n",
      " 3   EstimatedSalary  400 non-null    int64 \n",
      " 4   Purchased        400 non-null    int64 \n",
      "dtypes: int64(4), object(1)\n",
      "memory usage: 15.8+ KB\n"
     ]
    }
   ],
   "source": [
    "df.info()"
   ]
  },
  {
   "cell_type": "code",
   "execution_count": 5,
   "id": "629e647b",
   "metadata": {},
   "outputs": [
    {
     "data": {
      "text/plain": [
       "User ID            0\n",
       "Gender             0\n",
       "Age                0\n",
       "EstimatedSalary    0\n",
       "Purchased          0\n",
       "dtype: int64"
      ]
     },
     "execution_count": 5,
     "metadata": {},
     "output_type": "execute_result"
    }
   ],
   "source": [
    "df.isna().sum()"
   ]
  },
  {
   "cell_type": "code",
   "execution_count": 6,
   "id": "9aa41d9e",
   "metadata": {},
   "outputs": [
    {
     "name": "stdout",
     "output_type": "stream",
     "text": [
      "panjang dataset 400 baris\n"
     ]
    }
   ],
   "source": [
    "print(f'panjang dataset {len(df)} baris')"
   ]
  },
  {
   "cell_type": "code",
   "execution_count": 8,
   "id": "cdd9efae",
   "metadata": {},
   "outputs": [],
   "source": [
    "data = df[['User ID']]\n",
    "label = df['Age']\n",
    "\n",
    "data_train, data_test, label_train, label_test = train_test_split(data, label, test_size=.3)"
   ]
  },
  {
   "cell_type": "code",
   "execution_count": 9,
   "id": "8c5cc4cb",
   "metadata": {},
   "outputs": [
    {
     "name": "stdout",
     "output_type": "stream",
     "text": [
      "panjang data training 280\n",
      "panjang label training 280\n",
      "panjang data testing 120\n",
      "panjang label testing 120\n"
     ]
    }
   ],
   "source": [
    "print(f'panjang data training {len(data_train)}',\n",
    "     f'panjang label training {len(label_train)}',\n",
    "     f'panjang data testing {len(data_test)}',\n",
    "     f'panjang label testing {len(label_test)}',\n",
    "     sep='\\n')"
   ]
  },
  {
   "cell_type": "code",
   "execution_count": 10,
   "id": "2df42daf",
   "metadata": {},
   "outputs": [],
   "source": [
    "dataset_normalisasi = df.copy()\n",
    "dataset_standarirasi = df.copy()"
   ]
  },
  {
   "cell_type": "markdown",
   "id": "fcdda85d",
   "metadata": {},
   "source": [
    "NORMALISASI"
   ]
  },
  {
   "cell_type": "code",
   "execution_count": 12,
   "id": "891e064b",
   "metadata": {},
   "outputs": [
    {
     "data": {
      "text/html": [
       "<div>\n",
       "<style scoped>\n",
       "    .dataframe tbody tr th:only-of-type {\n",
       "        vertical-align: middle;\n",
       "    }\n",
       "\n",
       "    .dataframe tbody tr th {\n",
       "        vertical-align: top;\n",
       "    }\n",
       "\n",
       "    .dataframe thead th {\n",
       "        text-align: right;\n",
       "    }\n",
       "</style>\n",
       "<table border=\"1\" class=\"dataframe\">\n",
       "  <thead>\n",
       "    <tr style=\"text-align: right;\">\n",
       "      <th></th>\n",
       "      <th>User ID</th>\n",
       "      <th>Age</th>\n",
       "    </tr>\n",
       "  </thead>\n",
       "  <tbody>\n",
       "    <tr>\n",
       "      <th>0</th>\n",
       "      <td>0.232636</td>\n",
       "      <td>0.023810</td>\n",
       "    </tr>\n",
       "    <tr>\n",
       "      <th>1</th>\n",
       "      <td>0.982732</td>\n",
       "      <td>0.404762</td>\n",
       "    </tr>\n",
       "    <tr>\n",
       "      <th>2</th>\n",
       "      <td>0.409926</td>\n",
       "      <td>0.190476</td>\n",
       "    </tr>\n",
       "    <tr>\n",
       "      <th>3</th>\n",
       "      <td>0.147083</td>\n",
       "      <td>0.214286</td>\n",
       "    </tr>\n",
       "    <tr>\n",
       "      <th>4</th>\n",
       "      <td>0.954801</td>\n",
       "      <td>0.023810</td>\n",
       "    </tr>\n",
       "  </tbody>\n",
       "</table>\n",
       "</div>"
      ],
      "text/plain": [
       "    User ID       Age\n",
       "0  0.232636  0.023810\n",
       "1  0.982732  0.404762\n",
       "2  0.409926  0.190476\n",
       "3  0.147083  0.214286\n",
       "4  0.954801  0.023810"
      ]
     },
     "execution_count": 12,
     "metadata": {},
     "output_type": "execute_result"
    }
   ],
   "source": [
    "scaler = MinMaxScaler()\n",
    "\n",
    "normalize_dataset = scaler.fit_transform(dataset_normalisasi[['User ID', 'Age']])\n",
    "\n",
    "normalize_dataset = pd.DataFrame(normalize_dataset)\n",
    "normalize_dataset.rename(columns={ 0 :'User ID', 1 : 'Age'}, inplace=True)\n",
    "\n",
    "normalize_dataset.head(5)"
   ]
  },
  {
   "cell_type": "markdown",
   "id": "0e98610c",
   "metadata": {},
   "source": [
    "STANDARISASI"
   ]
  },
  {
   "cell_type": "code",
   "execution_count": 13,
   "id": "3688440a",
   "metadata": {},
   "outputs": [
    {
     "name": "stdout",
     "output_type": "stream",
     "text": [
      "<class 'pandas.core.frame.DataFrame'>\n",
      "RangeIndex: 400 entries, 0 to 399\n",
      "Data columns (total 5 columns):\n",
      " #   Column           Non-Null Count  Dtype \n",
      "---  ------           --------------  ----- \n",
      " 0   User ID          400 non-null    int64 \n",
      " 1   Gender           400 non-null    object\n",
      " 2   Age              400 non-null    int64 \n",
      " 3   EstimatedSalary  400 non-null    int64 \n",
      " 4   Purchased        400 non-null    int64 \n",
      "dtypes: int64(4), object(1)\n",
      "memory usage: 15.8+ KB\n"
     ]
    }
   ],
   "source": [
    "dataset_standarirasi.info()"
   ]
  },
  {
   "cell_type": "code",
   "execution_count": 14,
   "id": "b1e45762",
   "metadata": {},
   "outputs": [],
   "source": [
    "dataset_standarirasi.drop('Gender', axis = 1, inplace= True)"
   ]
  },
  {
   "cell_type": "code",
   "execution_count": 15,
   "id": "26369b4e",
   "metadata": {},
   "outputs": [
    {
     "name": "stdout",
     "output_type": "stream",
     "text": [
      "<class 'pandas.core.frame.DataFrame'>\n",
      "RangeIndex: 400 entries, 0 to 399\n",
      "Data columns (total 4 columns):\n",
      " #   Column           Non-Null Count  Dtype\n",
      "---  ------           --------------  -----\n",
      " 0   User ID          400 non-null    int64\n",
      " 1   Age              400 non-null    int64\n",
      " 2   EstimatedSalary  400 non-null    int64\n",
      " 3   Purchased        400 non-null    int64\n",
      "dtypes: int64(4)\n",
      "memory usage: 12.6 KB\n"
     ]
    }
   ],
   "source": [
    "dataset_standarirasi.info()"
   ]
  },
  {
   "cell_type": "code",
   "execution_count": 16,
   "id": "e2e23e88",
   "metadata": {},
   "outputs": [
    {
     "name": "stdout",
     "output_type": "stream",
     "text": [
      "Dataset sebelum scalling:\n",
      "Nilai standar deviasi:\n",
      "User ID            71568.692626\n",
      "Age                   10.469765\n",
      "EstimatedSalary    34054.312410\n",
      "Purchased              0.479264\n",
      "dtype: float64\n",
      "\n",
      "Dataset setelah scalling:\n",
      "[[-0.93657932 -1.78179743 -1.49004624 -0.74593581]\n",
      " [ 1.66838653 -0.25358736 -1.46068138 -0.74593581]\n",
      " [-0.32087714 -1.11320552 -0.78528968 -0.74593581]\n",
      " [-1.23369247 -1.01769239 -0.37418169 -0.74593581]\n",
      " [ 1.57138881 -1.78179743  0.18375059 -0.74593581]\n",
      " [ 0.52024483 -1.01769239 -0.34481683 -0.74593581]]\n",
      "Nilai standar deviasi: 1.0\n"
     ]
    }
   ],
   "source": [
    "standart_std = StandardScaler()\n",
    "\n",
    "scaled_data = standart_std.fit_transform(dataset_standarirasi)\n",
    "\n",
    "print('Dataset sebelum scalling:',  # SEBELUM\n",
    "      f'Nilai standar deviasi:\\n{np.std(dataset_standarirasi)}',\n",
    "      sep='\\n', end='\\n\\n')\n",
    "\n",
    "print('Dataset setelah scalling:',  # SESUDAH\n",
    "      scaled_data[:6],\n",
    "      f'Nilai standar deviasi: {np.std(scaled_data)}',\n",
    "      sep='\\n')"
   ]
  },
  {
   "cell_type": "markdown",
   "id": "93c84085",
   "metadata": {},
   "source": [
    "DATA CLEANING"
   ]
  },
  {
   "cell_type": "code",
   "execution_count": 17,
   "id": "ad6734a5",
   "metadata": {},
   "outputs": [],
   "source": [
    "dataset_ns = df.copy()"
   ]
  },
  {
   "cell_type": "code",
   "execution_count": 18,
   "id": "8238d2db",
   "metadata": {},
   "outputs": [],
   "source": [
    "imputer_mean = SimpleImputer(strategy='mean')\n",
    "imputer_median = SimpleImputer(strategy='median')\n",
    "imputer_modus = SimpleImputer(strategy='most_frequent')"
   ]
  },
  {
   "cell_type": "markdown",
   "id": "59bbc3a8",
   "metadata": {},
   "source": [
    "MODUS"
   ]
  },
  {
   "cell_type": "code",
   "execution_count": 19,
   "id": "86fd5884",
   "metadata": {},
   "outputs": [
    {
     "data": {
      "text/plain": [
       "User ID            0\n",
       "Gender             0\n",
       "Age                0\n",
       "EstimatedSalary    0\n",
       "Purchased          0\n",
       "dtype: int64"
      ]
     },
     "execution_count": 19,
     "metadata": {},
     "output_type": "execute_result"
    }
   ],
   "source": [
    "df.isna().sum()"
   ]
  },
  {
   "cell_type": "code",
   "execution_count": 20,
   "id": "d3a68912",
   "metadata": {},
   "outputs": [],
   "source": [
    "dfmodus = df.copy()"
   ]
  },
  {
   "cell_type": "code",
   "execution_count": 22,
   "id": "02d141ad",
   "metadata": {},
   "outputs": [
    {
     "data": {
      "text/plain": [
       "User ID            0\n",
       "Gender             0\n",
       "Age                0\n",
       "EstimatedSalary    0\n",
       "Purchased          0\n",
       "dtype: int64"
      ]
     },
     "execution_count": 22,
     "metadata": {},
     "output_type": "execute_result"
    }
   ],
   "source": [
    "dfmodus['Gender'] = imputer_modus.fit_transform(dfmodus[['Gender']])\n",
    "dfmodus.isna().sum()"
   ]
  },
  {
   "cell_type": "markdown",
   "id": "83b93033",
   "metadata": {},
   "source": [
    "MEAN"
   ]
  },
  {
   "cell_type": "code",
   "execution_count": 24,
   "id": "a59a8a04",
   "metadata": {},
   "outputs": [
    {
     "data": {
      "text/plain": [
       "User ID            0\n",
       "Gender             0\n",
       "Age                0\n",
       "EstimatedSalary    0\n",
       "Purchased          0\n",
       "dtype: int64"
      ]
     },
     "execution_count": 24,
     "metadata": {},
     "output_type": "execute_result"
    }
   ],
   "source": [
    "dfmodus['Gender'] = imputer_modus.fit_transform(dfmodus[['Gender']])\n",
    "dfmodus.isna().sum()"
   ]
  },
  {
   "cell_type": "code",
   "execution_count": 31,
   "id": "3737c34d",
   "metadata": {},
   "outputs": [
    {
     "ename": "AttributeError",
     "evalue": "'DataFrame' object has no attribute 'age'",
     "output_type": "error",
     "traceback": [
      "\u001b[1;31m---------------------------------------------------------------------------\u001b[0m",
      "\u001b[1;31mAttributeError\u001b[0m                            Traceback (most recent call last)",
      "Cell \u001b[1;32mIn [31], line 3\u001b[0m\n\u001b[0;32m      1\u001b[0m df2 \u001b[38;5;241m=\u001b[39m pd\u001b[38;5;241m.\u001b[39mread_csv(\u001b[38;5;124m'\u001b[39m\u001b[38;5;124mSocial_Network_Ads.csv\u001b[39m\u001b[38;5;124m'\u001b[39m)\n\u001b[0;32m      2\u001b[0m df2\u001b[38;5;241m.\u001b[39mhead()\n\u001b[1;32m----> 3\u001b[0m dataset_duplicate \u001b[38;5;241m=\u001b[39m \u001b[43mdf2\u001b[49m\u001b[38;5;241;43m.\u001b[39;49m\u001b[43mage\u001b[49m()\n\u001b[0;32m      5\u001b[0m dataset_duplicate\u001b[38;5;241m.\u001b[39mduplicated()\u001b[38;5;241m.\u001b[39msum()\n",
      "File \u001b[1;32mc:\\users\\user\\appdata\\local\\programs\\python\\python39\\lib\\site-packages\\pandas\\core\\generic.py:5487\u001b[0m, in \u001b[0;36mNDFrame.__getattr__\u001b[1;34m(self, name)\u001b[0m\n\u001b[0;32m   5480\u001b[0m \u001b[38;5;28;01mif\u001b[39;00m (\n\u001b[0;32m   5481\u001b[0m     name \u001b[38;5;129;01mnot\u001b[39;00m \u001b[38;5;129;01min\u001b[39;00m \u001b[38;5;28mself\u001b[39m\u001b[38;5;241m.\u001b[39m_internal_names_set\n\u001b[0;32m   5482\u001b[0m     \u001b[38;5;129;01mand\u001b[39;00m name \u001b[38;5;129;01mnot\u001b[39;00m \u001b[38;5;129;01min\u001b[39;00m \u001b[38;5;28mself\u001b[39m\u001b[38;5;241m.\u001b[39m_metadata\n\u001b[0;32m   5483\u001b[0m     \u001b[38;5;129;01mand\u001b[39;00m name \u001b[38;5;129;01mnot\u001b[39;00m \u001b[38;5;129;01min\u001b[39;00m \u001b[38;5;28mself\u001b[39m\u001b[38;5;241m.\u001b[39m_accessors\n\u001b[0;32m   5484\u001b[0m     \u001b[38;5;129;01mand\u001b[39;00m \u001b[38;5;28mself\u001b[39m\u001b[38;5;241m.\u001b[39m_info_axis\u001b[38;5;241m.\u001b[39m_can_hold_identifiers_and_holds_name(name)\n\u001b[0;32m   5485\u001b[0m ):\n\u001b[0;32m   5486\u001b[0m     \u001b[38;5;28;01mreturn\u001b[39;00m \u001b[38;5;28mself\u001b[39m[name]\n\u001b[1;32m-> 5487\u001b[0m \u001b[38;5;28;01mreturn\u001b[39;00m \u001b[38;5;28;43mobject\u001b[39;49m\u001b[38;5;241;43m.\u001b[39;49m\u001b[38;5;21;43m__getattribute__\u001b[39;49m\u001b[43m(\u001b[49m\u001b[38;5;28;43mself\u001b[39;49m\u001b[43m,\u001b[49m\u001b[43m \u001b[49m\u001b[43mname\u001b[49m\u001b[43m)\u001b[49m\n",
      "\u001b[1;31mAttributeError\u001b[0m: 'DataFrame' object has no attribute 'age'"
     ]
    }
   ],
   "source": [
    "df2 = pd.read_csv('Social_Network_Ads.csv')\n",
    "df2.head()\n",
    "dataset_duplicate = df2.age()\n",
    "\n",
    "dataset_duplicate.duplicated().sum()"
   ]
  },
  {
   "cell_type": "code",
   "execution_count": 32,
   "id": "de363ad6",
   "metadata": {},
   "outputs": [
    {
     "ename": "NameError",
     "evalue": "name 'dataset_duplicate' is not defined",
     "output_type": "error",
     "traceback": [
      "\u001b[1;31m---------------------------------------------------------------------------\u001b[0m",
      "\u001b[1;31mNameError\u001b[0m                                 Traceback (most recent call last)",
      "Cell \u001b[1;32mIn [32], line 1\u001b[0m\n\u001b[1;32m----> 1\u001b[0m \u001b[43mdataset_duplicate\u001b[49m\u001b[38;5;241m.\u001b[39mdrop_duplicates(inplace\u001b[38;5;241m=\u001b[39m\u001b[38;5;28;01mTrue\u001b[39;00m)\n\u001b[0;32m      3\u001b[0m dataset_duplicate\u001b[38;5;241m.\u001b[39mduplicated()\u001b[38;5;241m.\u001b[39msum()\n",
      "\u001b[1;31mNameError\u001b[0m: name 'dataset_duplicate' is not defined"
     ]
    }
   ],
   "source": [
    "dataset_duplicate.drop_duplicates(inplace=True)\n",
    "\n",
    "dataset_duplicate.duplicated().sum()"
   ]
  },
  {
   "cell_type": "code",
   "execution_count": 33,
   "id": "9de1a87a",
   "metadata": {},
   "outputs": [],
   "source": [
    "dataset_ordinal = df.copy()\n",
    "dataset_one_hot = df.copy()"
   ]
  },
  {
   "cell_type": "code",
   "execution_count": 34,
   "id": "d0653fa9",
   "metadata": {},
   "outputs": [
    {
     "data": {
      "text/plain": [
       "array([19, 35, 26, 27, 32, 25, 20, 18, 29, 47, 45, 46, 48, 49, 31, 21, 28,\n",
       "       33, 30, 23, 24, 22, 59, 34, 39, 38, 37, 42, 40, 36, 41, 58, 55, 52,\n",
       "       60, 56, 53, 50, 51, 57, 44, 43, 54], dtype=int64)"
      ]
     },
     "execution_count": 34,
     "metadata": {},
     "output_type": "execute_result"
    }
   ],
   "source": [
    "df['Age'].unique()"
   ]
  },
  {
   "cell_type": "code",
   "execution_count": 35,
   "id": "0525869e",
   "metadata": {},
   "outputs": [
    {
     "data": {
      "text/html": [
       "<div>\n",
       "<style scoped>\n",
       "    .dataframe tbody tr th:only-of-type {\n",
       "        vertical-align: middle;\n",
       "    }\n",
       "\n",
       "    .dataframe tbody tr th {\n",
       "        vertical-align: top;\n",
       "    }\n",
       "\n",
       "    .dataframe thead th {\n",
       "        text-align: right;\n",
       "    }\n",
       "</style>\n",
       "<table border=\"1\" class=\"dataframe\">\n",
       "  <thead>\n",
       "    <tr style=\"text-align: right;\">\n",
       "      <th></th>\n",
       "      <th>User ID</th>\n",
       "      <th>Gender</th>\n",
       "      <th>Age</th>\n",
       "      <th>EstimatedSalary</th>\n",
       "      <th>Purchased</th>\n",
       "    </tr>\n",
       "  </thead>\n",
       "  <tbody>\n",
       "    <tr>\n",
       "      <th>0</th>\n",
       "      <td>15624510</td>\n",
       "      <td>Male</td>\n",
       "      <td>1</td>\n",
       "      <td>19000</td>\n",
       "      <td>0</td>\n",
       "    </tr>\n",
       "    <tr>\n",
       "      <th>1</th>\n",
       "      <td>15810944</td>\n",
       "      <td>Male</td>\n",
       "      <td>17</td>\n",
       "      <td>20000</td>\n",
       "      <td>0</td>\n",
       "    </tr>\n",
       "    <tr>\n",
       "      <th>2</th>\n",
       "      <td>15668575</td>\n",
       "      <td>Female</td>\n",
       "      <td>8</td>\n",
       "      <td>43000</td>\n",
       "      <td>0</td>\n",
       "    </tr>\n",
       "    <tr>\n",
       "      <th>3</th>\n",
       "      <td>15603246</td>\n",
       "      <td>Female</td>\n",
       "      <td>9</td>\n",
       "      <td>57000</td>\n",
       "      <td>0</td>\n",
       "    </tr>\n",
       "    <tr>\n",
       "      <th>4</th>\n",
       "      <td>15804002</td>\n",
       "      <td>Male</td>\n",
       "      <td>1</td>\n",
       "      <td>76000</td>\n",
       "      <td>0</td>\n",
       "    </tr>\n",
       "  </tbody>\n",
       "</table>\n",
       "</div>"
      ],
      "text/plain": [
       "    User ID  Gender  Age  EstimatedSalary  Purchased\n",
       "0  15624510    Male    1            19000          0\n",
       "1  15810944    Male   17            20000          0\n",
       "2  15668575  Female    8            43000          0\n",
       "3  15603246  Female    9            57000          0\n",
       "4  15804002    Male    1            76000          0"
      ]
     },
     "execution_count": 35,
     "metadata": {},
     "output_type": "execute_result"
    }
   ],
   "source": [
    "encoder_ordinal =OrdinalEncoder()\n",
    "\n",
    "# di encoding\n",
    "dataset_ordinal['Age'] = encoder_ordinal.fit_transform(dataset_ordinal[['Age']]).astype('int64')\n",
    "\n",
    "dataset_ordinal.head()"
   ]
  },
  {
   "cell_type": "code",
   "execution_count": 37,
   "id": "3bffccf8",
   "metadata": {},
   "outputs": [
    {
     "data": {
      "text/plain": [
       "array([15624510, 15810944, 15668575, 15603246, 15804002, 15728773,\n",
       "       15598044, 15694829, 15600575, 15727311, 15570769, 15606274,\n",
       "       15746139, 15704987, 15628972, 15697686, 15733883, 15617482,\n",
       "       15704583, 15621083, 15649487, 15736760, 15714658, 15599081,\n",
       "       15705113, 15631159, 15792818, 15633531, 15744529, 15669656,\n",
       "       15581198, 15729054, 15573452, 15776733, 15724858, 15713144,\n",
       "       15690188, 15689425, 15671766, 15782806, 15764419, 15591915,\n",
       "       15772798, 15792008, 15715541, 15639277, 15798850, 15776348,\n",
       "       15727696, 15793813, 15694395, 15764195, 15744919, 15671655,\n",
       "       15654901, 15649136, 15775562, 15807481, 15642885, 15789109,\n",
       "       15814004, 15673619, 15595135, 15583681, 15605000, 15718071,\n",
       "       15679760, 15654574, 15577178, 15595324, 15756932, 15726358,\n",
       "       15595228, 15782530, 15592877, 15651983, 15746737, 15774179,\n",
       "       15667265, 15655123, 15595917, 15668385, 15709476, 15711218,\n",
       "       15798659, 15663939, 15694946, 15631912, 15768816, 15682268,\n",
       "       15684801, 15636428, 15809823, 15699284, 15786993, 15709441,\n",
       "       15710257, 15582492, 15575694, 15756820, 15766289, 15593014,\n",
       "       15584545, 15675949, 15672091, 15801658, 15706185, 15789863,\n",
       "       15720943, 15697997, 15665416, 15660200, 15619653, 15773447,\n",
       "       15739160, 15689237, 15679297, 15591433, 15642725, 15701962,\n",
       "       15811613, 15741049, 15724423, 15574305, 15678168, 15697020,\n",
       "       15610801, 15745232, 15722758, 15792102, 15675185, 15801247,\n",
       "       15725660, 15638963, 15800061, 15578006, 15668504, 15687491,\n",
       "       15610403, 15741094, 15807909, 15666141, 15617134, 15783029,\n",
       "       15622833, 15746422, 15750839, 15749130, 15779862, 15767871,\n",
       "       15679651, 15576219, 15699247, 15619087, 15605327, 15610140,\n",
       "       15791174, 15602373, 15762605, 15598840, 15744279, 15670619,\n",
       "       15599533, 15757837, 15697574, 15578738, 15762228, 15614827,\n",
       "       15789815, 15579781, 15587013, 15570932, 15794661, 15581654,\n",
       "       15644296, 15614420, 15609653, 15594577, 15584114, 15673367,\n",
       "       15685576, 15774727, 15694288, 15603319, 15759066, 15814816,\n",
       "       15724402, 15571059, 15674206, 15715160, 15730448, 15662067,\n",
       "       15779581, 15662901, 15689751, 15667742, 15738448, 15680243,\n",
       "       15745083, 15708228, 15628523, 15708196, 15735549, 15809347,\n",
       "       15660866, 15766609, 15654230, 15794566, 15800890, 15697424,\n",
       "       15724536, 15735878, 15707596, 15657163, 15622478, 15779529,\n",
       "       15636023, 15582066, 15666675, 15732987, 15789432, 15663161,\n",
       "       15694879, 15593715, 15575002, 15622171, 15795224, 15685346,\n",
       "       15691808, 15721007, 15794253, 15694453, 15813113, 15614187,\n",
       "       15619407, 15646227, 15660541, 15753874, 15617877, 15772073,\n",
       "       15701537, 15736228, 15780572, 15769596, 15586996, 15722061,\n",
       "       15638003, 15775590, 15730688, 15753102, 15810075, 15723373,\n",
       "       15795298, 15584320, 15724161, 15750056, 15609637, 15794493,\n",
       "       15569641, 15815236, 15811177, 15680587, 15672821, 15767681,\n",
       "       15600379, 15801336, 15721592, 15581282, 15746203, 15583137,\n",
       "       15680752, 15688172, 15791373, 15589449, 15692819, 15727467,\n",
       "       15734312, 15764604, 15613014, 15759684, 15609669, 15685536,\n",
       "       15750447, 15663249, 15638646, 15734161, 15631070, 15761950,\n",
       "       15649668, 15713912, 15586757, 15596522, 15625395, 15760570,\n",
       "       15566689, 15725794, 15673539, 15705298, 15675791, 15747043,\n",
       "       15736397, 15678201, 15720745, 15637593, 15598070, 15787550,\n",
       "       15603942, 15733973, 15596761, 15652400, 15717893, 15622585,\n",
       "       15733964, 15753861, 15747097, 15594762, 15667417, 15684861,\n",
       "       15742204, 15623502, 15774872, 15611191, 15674331, 15619465,\n",
       "       15575247, 15695679, 15713463, 15785170, 15796351, 15639576,\n",
       "       15693264, 15589715, 15769902, 15587177, 15814553, 15601550,\n",
       "       15664907, 15612465, 15810800, 15665760, 15588080, 15776844,\n",
       "       15717560, 15629739, 15729908, 15716781, 15646936, 15768151,\n",
       "       15579212, 15721835, 15800515, 15591279, 15587419, 15750335,\n",
       "       15699619, 15606472, 15778368, 15671387, 15573926, 15709183,\n",
       "       15577514, 15778830, 15768072, 15768293, 15654456, 15807525,\n",
       "       15574372, 15671249, 15779744, 15624755, 15611430, 15774744,\n",
       "       15629885, 15708791, 15793890, 15646091, 15596984, 15800215,\n",
       "       15577806, 15749381, 15683758, 15670615, 15715622, 15707634,\n",
       "       15806901, 15775335, 15724150, 15627220, 15672330, 15668521,\n",
       "       15807837, 15592570, 15748589, 15635893, 15757632, 15691863,\n",
       "       15706071, 15654296, 15755018, 15594041], dtype=int64)"
      ]
     },
     "execution_count": 37,
     "metadata": {},
     "output_type": "execute_result"
    }
   ],
   "source": [
    "dataset_ordinal['User ID'].unique()"
   ]
  },
  {
   "cell_type": "code",
   "execution_count": 38,
   "id": "f58f0a96",
   "metadata": {},
   "outputs": [
    {
     "data": {
      "text/html": [
       "<div>\n",
       "<style scoped>\n",
       "    .dataframe tbody tr th:only-of-type {\n",
       "        vertical-align: middle;\n",
       "    }\n",
       "\n",
       "    .dataframe tbody tr th {\n",
       "        vertical-align: top;\n",
       "    }\n",
       "\n",
       "    .dataframe thead th {\n",
       "        text-align: right;\n",
       "    }\n",
       "</style>\n",
       "<table border=\"1\" class=\"dataframe\">\n",
       "  <thead>\n",
       "    <tr style=\"text-align: right;\">\n",
       "      <th></th>\n",
       "      <th>Gender</th>\n",
       "      <th>Age</th>\n",
       "      <th>EstimatedSalary</th>\n",
       "      <th>Purchased</th>\n",
       "      <th>User ID</th>\n",
       "    </tr>\n",
       "  </thead>\n",
       "  <tbody>\n",
       "    <tr>\n",
       "      <th>0</th>\n",
       "      <td>Male</td>\n",
       "      <td>19</td>\n",
       "      <td>19000</td>\n",
       "      <td>0</td>\n",
       "      <td>15624510</td>\n",
       "    </tr>\n",
       "    <tr>\n",
       "      <th>1</th>\n",
       "      <td>Male</td>\n",
       "      <td>35</td>\n",
       "      <td>20000</td>\n",
       "      <td>0</td>\n",
       "      <td>15810944</td>\n",
       "    </tr>\n",
       "    <tr>\n",
       "      <th>2</th>\n",
       "      <td>Female</td>\n",
       "      <td>26</td>\n",
       "      <td>43000</td>\n",
       "      <td>0</td>\n",
       "      <td>15668575</td>\n",
       "    </tr>\n",
       "    <tr>\n",
       "      <th>3</th>\n",
       "      <td>Female</td>\n",
       "      <td>27</td>\n",
       "      <td>57000</td>\n",
       "      <td>0</td>\n",
       "      <td>15603246</td>\n",
       "    </tr>\n",
       "    <tr>\n",
       "      <th>4</th>\n",
       "      <td>Male</td>\n",
       "      <td>19</td>\n",
       "      <td>76000</td>\n",
       "      <td>0</td>\n",
       "      <td>15804002</td>\n",
       "    </tr>\n",
       "  </tbody>\n",
       "</table>\n",
       "</div>"
      ],
      "text/plain": [
       "   Gender  Age  EstimatedSalary  Purchased   User ID\n",
       "0    Male   19            19000          0  15624510\n",
       "1    Male   35            20000          0  15810944\n",
       "2  Female   26            43000          0  15668575\n",
       "3  Female   27            57000          0  15603246\n",
       "4    Male   19            76000          0  15804002"
      ]
     },
     "execution_count": 38,
     "metadata": {},
     "output_type": "execute_result"
    }
   ],
   "source": [
    "temp_dataset = pd.get_dummies(dataset_one_hot[['User ID']])\n",
    "\n",
    "temp_dataset = pd.DataFrame(temp_dataset)\n",
    "\n",
    "dataset_one_hot.drop('User ID', axis=1, inplace=True)\n",
    "\n",
    "dataset_one_hot = dataset_one_hot.join(temp_dataset)\n",
    "dataset_one_hot.head(5)"
   ]
  },
  {
   "cell_type": "code",
   "execution_count": null,
   "id": "cbcd79e9",
   "metadata": {},
   "outputs": [],
   "source": []
  }
 ],
 "metadata": {
  "kernelspec": {
   "display_name": "Python 3 (ipykernel)",
   "language": "python",
   "name": "python3"
  },
  "language_info": {
   "codemirror_mode": {
    "name": "ipython",
    "version": 3
   },
   "file_extension": ".py",
   "mimetype": "text/x-python",
   "name": "python",
   "nbconvert_exporter": "python",
   "pygments_lexer": "ipython3",
   "version": "3.9.5"
  }
 },
 "nbformat": 4,
 "nbformat_minor": 5
}
