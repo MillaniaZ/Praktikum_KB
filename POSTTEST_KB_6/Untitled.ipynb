{
 "cells": [
  {
   "cell_type": "markdown",
   "id": "0c71426d",
   "metadata": {},
   "source": [
    "POSTTEST 6 \n",
    "\n",
    "NAMA : MILLANIA ZAHROH\n",
    "\n",
    "NIM : 2009106140"
   ]
  },
  {
   "cell_type": "code",
   "execution_count": 80,
   "id": "6d342e78",
   "metadata": {},
   "outputs": [],
   "source": [
    "import pandas as pd\n",
    "import numpy as np\n",
    "import seaborn as sns\n",
    "import scipy\n",
    "import matplotlib.pyplot as plt\n",
    "import sklearn.datasets as skdt\n",
    "\n",
    "from sklearn.model_selection import train_test_split \n",
    "from sklearn.preprocessing import StandardScaler\n",
    "from sklearn.preprocessing import MinMaxScaler \n",
    "from sklearn.impute import SimpleImputer \n",
    "from sklearn.preprocessing import OrdinalEncoder \n",
    "from sklearn.preprocessing import OneHotEncoder \n",
    "from matplotlib import pyplot as plt\n",
    "from scipy.cluster.hierarchy import dendrogram, linkage, complete\n",
    "from sklearn.cluster import AgglomerativeClustering"
   ]
  },
  {
   "cell_type": "code",
   "execution_count": 81,
   "id": "59c3f51c",
   "metadata": {},
   "outputs": [
    {
     "data": {
      "text/html": [
       "<div>\n",
       "<style scoped>\n",
       "    .dataframe tbody tr th:only-of-type {\n",
       "        vertical-align: middle;\n",
       "    }\n",
       "\n",
       "    .dataframe tbody tr th {\n",
       "        vertical-align: top;\n",
       "    }\n",
       "\n",
       "    .dataframe thead th {\n",
       "        text-align: right;\n",
       "    }\n",
       "</style>\n",
       "<table border=\"1\" class=\"dataframe\">\n",
       "  <thead>\n",
       "    <tr style=\"text-align: right;\">\n",
       "      <th></th>\n",
       "      <th>Unnamed: 0</th>\n",
       "      <th>Title</th>\n",
       "      <th>Artist</th>\n",
       "      <th>Release</th>\n",
       "      <th>danceability</th>\n",
       "      <th>energy</th>\n",
       "      <th>key</th>\n",
       "      <th>loudness</th>\n",
       "      <th>mode</th>\n",
       "      <th>speechiness</th>\n",
       "      <th>acousticness</th>\n",
       "      <th>instrumentalness</th>\n",
       "      <th>liveness</th>\n",
       "      <th>valence</th>\n",
       "      <th>tempo</th>\n",
       "      <th>id</th>\n",
       "      <th>duration_ms</th>\n",
       "    </tr>\n",
       "  </thead>\n",
       "  <tbody>\n",
       "    <tr>\n",
       "      <th>0</th>\n",
       "      <td>1</td>\n",
       "      <td>Like</td>\n",
       "      <td>BTS</td>\n",
       "      <td>2013/6/12</td>\n",
       "      <td>0.582</td>\n",
       "      <td>0.726</td>\n",
       "      <td>0</td>\n",
       "      <td>-4.174</td>\n",
       "      <td>0</td>\n",
       "      <td>0.1160</td>\n",
       "      <td>0.27100</td>\n",
       "      <td>0.000000</td>\n",
       "      <td>0.227</td>\n",
       "      <td>0.768</td>\n",
       "      <td>100.450</td>\n",
       "      <td>1HQHuPpr2s2z3VIBTLtUmv</td>\n",
       "      <td>231883</td>\n",
       "    </tr>\n",
       "    <tr>\n",
       "      <th>1</th>\n",
       "      <td>2</td>\n",
       "      <td>No More Dream</td>\n",
       "      <td>BTS</td>\n",
       "      <td>2013/6/12</td>\n",
       "      <td>0.436</td>\n",
       "      <td>0.869</td>\n",
       "      <td>2</td>\n",
       "      <td>-5.174</td>\n",
       "      <td>1</td>\n",
       "      <td>0.4720</td>\n",
       "      <td>0.01240</td>\n",
       "      <td>0.000002</td>\n",
       "      <td>0.494</td>\n",
       "      <td>0.612</td>\n",
       "      <td>167.766</td>\n",
       "      <td>4frlkLwlnm58ejpNwWjxyl</td>\n",
       "      <td>221593</td>\n",
       "    </tr>\n",
       "    <tr>\n",
       "      <th>2</th>\n",
       "      <td>3</td>\n",
       "      <td>We Are Bulletproof Pt.2</td>\n",
       "      <td>BTS</td>\n",
       "      <td>2013/6/12</td>\n",
       "      <td>0.754</td>\n",
       "      <td>0.952</td>\n",
       "      <td>8</td>\n",
       "      <td>-5.110</td>\n",
       "      <td>0</td>\n",
       "      <td>0.1530</td>\n",
       "      <td>0.00945</td>\n",
       "      <td>0.000006</td>\n",
       "      <td>0.189</td>\n",
       "      <td>0.868</td>\n",
       "      <td>144.051</td>\n",
       "      <td>2Kspa0jD2MSkaEdonf4Cnb</td>\n",
       "      <td>225360</td>\n",
       "    </tr>\n",
       "    <tr>\n",
       "      <th>3</th>\n",
       "      <td>4</td>\n",
       "      <td>Attack on Bangtan</td>\n",
       "      <td>BTS</td>\n",
       "      <td>2013/9/11</td>\n",
       "      <td>0.722</td>\n",
       "      <td>0.961</td>\n",
       "      <td>11</td>\n",
       "      <td>-2.548</td>\n",
       "      <td>0</td>\n",
       "      <td>0.2670</td>\n",
       "      <td>0.20300</td>\n",
       "      <td>0.000000</td>\n",
       "      <td>0.121</td>\n",
       "      <td>0.678</td>\n",
       "      <td>118.016</td>\n",
       "      <td>6bCoSWW1zyQrwQDSMEmsVy</td>\n",
       "      <td>247160</td>\n",
       "    </tr>\n",
       "    <tr>\n",
       "      <th>4</th>\n",
       "      <td>5</td>\n",
       "      <td>Coffee</td>\n",
       "      <td>BTS</td>\n",
       "      <td>2013/9/11</td>\n",
       "      <td>0.652</td>\n",
       "      <td>0.794</td>\n",
       "      <td>0</td>\n",
       "      <td>-6.604</td>\n",
       "      <td>1</td>\n",
       "      <td>0.0957</td>\n",
       "      <td>0.00808</td>\n",
       "      <td>0.000000</td>\n",
       "      <td>0.298</td>\n",
       "      <td>0.545</td>\n",
       "      <td>92.045</td>\n",
       "      <td>0Tb8sBQ9fseZbDRzRSxTdi</td>\n",
       "      <td>261453</td>\n",
       "    </tr>\n",
       "  </tbody>\n",
       "</table>\n",
       "</div>"
      ],
      "text/plain": [
       "   Unnamed: 0                    Title Artist    Release  danceability  \\\n",
       "0           1                     Like    BTS  2013/6/12         0.582   \n",
       "1           2            No More Dream    BTS  2013/6/12         0.436   \n",
       "2           3  We Are Bulletproof Pt.2    BTS  2013/6/12         0.754   \n",
       "3           4        Attack on Bangtan    BTS  2013/9/11         0.722   \n",
       "4           5                   Coffee    BTS  2013/9/11         0.652   \n",
       "\n",
       "   energy  key  loudness  mode  speechiness  acousticness  instrumentalness  \\\n",
       "0   0.726    0    -4.174     0       0.1160       0.27100          0.000000   \n",
       "1   0.869    2    -5.174     1       0.4720       0.01240          0.000002   \n",
       "2   0.952    8    -5.110     0       0.1530       0.00945          0.000006   \n",
       "3   0.961   11    -2.548     0       0.2670       0.20300          0.000000   \n",
       "4   0.794    0    -6.604     1       0.0957       0.00808          0.000000   \n",
       "\n",
       "   liveness  valence    tempo                      id  duration_ms  \n",
       "0     0.227    0.768  100.450  1HQHuPpr2s2z3VIBTLtUmv       231883  \n",
       "1     0.494    0.612  167.766  4frlkLwlnm58ejpNwWjxyl       221593  \n",
       "2     0.189    0.868  144.051  2Kspa0jD2MSkaEdonf4Cnb       225360  \n",
       "3     0.121    0.678  118.016  6bCoSWW1zyQrwQDSMEmsVy       247160  \n",
       "4     0.298    0.545   92.045  0Tb8sBQ9fseZbDRzRSxTdi       261453  "
      ]
     },
     "execution_count": 81,
     "metadata": {},
     "output_type": "execute_result"
    }
   ],
   "source": [
    "df = pd.read_csv('SpotifyBTS.csv')\n",
    "df.head()"
   ]
  },
  {
   "cell_type": "code",
   "execution_count": 82,
   "id": "66969fa8",
   "metadata": {},
   "outputs": [
    {
     "data": {
      "text/plain": [
       "Index(['Unnamed: 0', 'Title', 'Artist', 'Release', 'danceability', 'energy',\n",
       "       'key', 'loudness', 'mode', 'speechiness', 'acousticness',\n",
       "       'instrumentalness', 'liveness', 'valence', 'tempo', 'id',\n",
       "       'duration_ms'],\n",
       "      dtype='object')"
      ]
     },
     "execution_count": 82,
     "metadata": {},
     "output_type": "execute_result"
    }
   ],
   "source": [
    "df.keys()"
   ]
  },
  {
   "cell_type": "code",
   "execution_count": 83,
   "id": "4554b521",
   "metadata": {},
   "outputs": [
    {
     "name": "stdout",
     "output_type": "stream",
     "text": [
      "<class 'pandas.core.frame.DataFrame'>\n",
      "RangeIndex: 147 entries, 0 to 146\n",
      "Data columns (total 17 columns):\n",
      " #   Column            Non-Null Count  Dtype  \n",
      "---  ------            --------------  -----  \n",
      " 0   Unnamed: 0        147 non-null    int64  \n",
      " 1   Title             147 non-null    object \n",
      " 2   Artist            147 non-null    object \n",
      " 3   Release           147 non-null    object \n",
      " 4   danceability      147 non-null    float64\n",
      " 5   energy            147 non-null    float64\n",
      " 6   key               147 non-null    int64  \n",
      " 7   loudness          147 non-null    float64\n",
      " 8   mode              147 non-null    int64  \n",
      " 9   speechiness       147 non-null    float64\n",
      " 10  acousticness      147 non-null    float64\n",
      " 11  instrumentalness  147 non-null    float64\n",
      " 12  liveness          147 non-null    float64\n",
      " 13  valence           147 non-null    float64\n",
      " 14  tempo             147 non-null    float64\n",
      " 15  id                147 non-null    object \n",
      " 16  duration_ms       147 non-null    int64  \n",
      "dtypes: float64(9), int64(4), object(4)\n",
      "memory usage: 19.6+ KB\n"
     ]
    }
   ],
   "source": [
    "df.info()"
   ]
  },
  {
   "cell_type": "code",
   "execution_count": 84,
   "id": "78f680d6",
   "metadata": {},
   "outputs": [
    {
     "data": {
      "text/plain": [
       "Unnamed: 0          0\n",
       "Title               0\n",
       "Artist              0\n",
       "Release             0\n",
       "danceability        0\n",
       "energy              0\n",
       "key                 0\n",
       "loudness            0\n",
       "mode                0\n",
       "speechiness         0\n",
       "acousticness        0\n",
       "instrumentalness    0\n",
       "liveness            0\n",
       "valence             0\n",
       "tempo               0\n",
       "id                  0\n",
       "duration_ms         0\n",
       "dtype: int64"
      ]
     },
     "execution_count": 84,
     "metadata": {},
     "output_type": "execute_result"
    }
   ],
   "source": [
    "df.isna().sum()"
   ]
  },
  {
   "cell_type": "code",
   "execution_count": 85,
   "id": "350381ae",
   "metadata": {},
   "outputs": [
    {
     "name": "stdout",
     "output_type": "stream",
     "text": [
      "panjang dataset 147 baris\n"
     ]
    }
   ],
   "source": [
    "print(f'panjang dataset {len(df)} baris')"
   ]
  },
  {
   "cell_type": "code",
   "execution_count": 86,
   "id": "3a747aaa",
   "metadata": {},
   "outputs": [],
   "source": [
    "data = df[['mode']]\n",
    "label = df['Artist']\n",
    "\n",
    "data_train, data_test, label_train, label_test = train_test_split(data, label, test_size=.3)"
   ]
  },
  {
   "cell_type": "code",
   "execution_count": 87,
   "id": "7a3cce01",
   "metadata": {},
   "outputs": [
    {
     "name": "stdout",
     "output_type": "stream",
     "text": [
      "panjang data training 102\n",
      "panjang label training 102\n",
      "panjang data testing 45\n",
      "panjang label testing 45\n"
     ]
    }
   ],
   "source": [
    "print(f'panjang data training {len(data_train)}',\n",
    "     f'panjang label training {len(label_train)}',\n",
    "     f'panjang data testing {len(data_test)}',\n",
    "     f'panjang label testing {len(label_test)}',\n",
    "     sep='\\n')"
   ]
  },
  {
   "cell_type": "code",
   "execution_count": 88,
   "id": "37bdeb0f",
   "metadata": {},
   "outputs": [],
   "source": [
    "dataset_normalisasi = df.copy()\n",
    "dataset_standarirasi = df.copy()"
   ]
  },
  {
   "cell_type": "code",
   "execution_count": 89,
   "id": "98426a86",
   "metadata": {},
   "outputs": [
    {
     "data": {
      "text/html": [
       "<div>\n",
       "<style scoped>\n",
       "    .dataframe tbody tr th:only-of-type {\n",
       "        vertical-align: middle;\n",
       "    }\n",
       "\n",
       "    .dataframe tbody tr th {\n",
       "        vertical-align: top;\n",
       "    }\n",
       "\n",
       "    .dataframe thead th {\n",
       "        text-align: right;\n",
       "    }\n",
       "</style>\n",
       "<table border=\"1\" class=\"dataframe\">\n",
       "  <thead>\n",
       "    <tr style=\"text-align: right;\">\n",
       "      <th></th>\n",
       "      <th>key</th>\n",
       "      <th>duration_ms</th>\n",
       "    </tr>\n",
       "  </thead>\n",
       "  <tbody>\n",
       "    <tr>\n",
       "      <th>0</th>\n",
       "      <td>0.000000</td>\n",
       "      <td>0.494748</td>\n",
       "    </tr>\n",
       "    <tr>\n",
       "      <th>1</th>\n",
       "      <td>0.181818</td>\n",
       "      <td>0.451513</td>\n",
       "    </tr>\n",
       "    <tr>\n",
       "      <th>2</th>\n",
       "      <td>0.727273</td>\n",
       "      <td>0.467340</td>\n",
       "    </tr>\n",
       "    <tr>\n",
       "      <th>3</th>\n",
       "      <td>1.000000</td>\n",
       "      <td>0.558937</td>\n",
       "    </tr>\n",
       "    <tr>\n",
       "      <th>4</th>\n",
       "      <td>0.000000</td>\n",
       "      <td>0.618992</td>\n",
       "    </tr>\n",
       "  </tbody>\n",
       "</table>\n",
       "</div>"
      ],
      "text/plain": [
       "        key  duration_ms\n",
       "0  0.000000     0.494748\n",
       "1  0.181818     0.451513\n",
       "2  0.727273     0.467340\n",
       "3  1.000000     0.558937\n",
       "4  0.000000     0.618992"
      ]
     },
     "execution_count": 89,
     "metadata": {},
     "output_type": "execute_result"
    }
   ],
   "source": [
    "scaler = MinMaxScaler()\n",
    "\n",
    "normalize_dataset = scaler.fit_transform(dataset_normalisasi[['key', 'duration_ms']])\n",
    "\n",
    "normalize_dataset = pd.DataFrame(normalize_dataset)\n",
    "normalize_dataset.rename(columns={ 0 :'key', 1 : 'duration_ms'}, inplace=True)\n",
    "\n",
    "normalize_dataset.head()"
   ]
  },
  {
   "cell_type": "code",
   "execution_count": 90,
   "id": "bde31657",
   "metadata": {},
   "outputs": [
    {
     "name": "stdout",
     "output_type": "stream",
     "text": [
      "<class 'pandas.core.frame.DataFrame'>\n",
      "RangeIndex: 147 entries, 0 to 146\n",
      "Data columns (total 17 columns):\n",
      " #   Column            Non-Null Count  Dtype  \n",
      "---  ------            --------------  -----  \n",
      " 0   Unnamed: 0        147 non-null    int64  \n",
      " 1   Title             147 non-null    object \n",
      " 2   Artist            147 non-null    object \n",
      " 3   Release           147 non-null    object \n",
      " 4   danceability      147 non-null    float64\n",
      " 5   energy            147 non-null    float64\n",
      " 6   key               147 non-null    int64  \n",
      " 7   loudness          147 non-null    float64\n",
      " 8   mode              147 non-null    int64  \n",
      " 9   speechiness       147 non-null    float64\n",
      " 10  acousticness      147 non-null    float64\n",
      " 11  instrumentalness  147 non-null    float64\n",
      " 12  liveness          147 non-null    float64\n",
      " 13  valence           147 non-null    float64\n",
      " 14  tempo             147 non-null    float64\n",
      " 15  id                147 non-null    object \n",
      " 16  duration_ms       147 non-null    int64  \n",
      "dtypes: float64(9), int64(4), object(4)\n",
      "memory usage: 19.6+ KB\n"
     ]
    }
   ],
   "source": [
    "dataset_standarirasi.info()"
   ]
  },
  {
   "cell_type": "code",
   "execution_count": 91,
   "id": "dc42ef3b",
   "metadata": {},
   "outputs": [],
   "source": [
    "dataset_standarirasi.drop('Title', axis = 1, inplace= True)"
   ]
  },
  {
   "cell_type": "code",
   "execution_count": 92,
   "id": "6cf42978",
   "metadata": {},
   "outputs": [],
   "source": [
    "dataset_standarirasi.drop('Artist', axis = 1, inplace= True)"
   ]
  },
  {
   "cell_type": "code",
   "execution_count": 93,
   "id": "423c1c91",
   "metadata": {},
   "outputs": [],
   "source": [
    "dataset_standarirasi.drop('Release', axis = 1, inplace= True)"
   ]
  },
  {
   "cell_type": "code",
   "execution_count": 94,
   "id": "e1dfa3dd",
   "metadata": {},
   "outputs": [],
   "source": [
    "dataset_standarirasi.drop('id', axis = 1, inplace= True)"
   ]
  },
  {
   "cell_type": "code",
   "execution_count": 95,
   "id": "fc9a145b",
   "metadata": {},
   "outputs": [
    {
     "name": "stdout",
     "output_type": "stream",
     "text": [
      "<class 'pandas.core.frame.DataFrame'>\n",
      "RangeIndex: 147 entries, 0 to 146\n",
      "Data columns (total 13 columns):\n",
      " #   Column            Non-Null Count  Dtype  \n",
      "---  ------            --------------  -----  \n",
      " 0   Unnamed: 0        147 non-null    int64  \n",
      " 1   danceability      147 non-null    float64\n",
      " 2   energy            147 non-null    float64\n",
      " 3   key               147 non-null    int64  \n",
      " 4   loudness          147 non-null    float64\n",
      " 5   mode              147 non-null    int64  \n",
      " 6   speechiness       147 non-null    float64\n",
      " 7   acousticness      147 non-null    float64\n",
      " 8   instrumentalness  147 non-null    float64\n",
      " 9   liveness          147 non-null    float64\n",
      " 10  valence           147 non-null    float64\n",
      " 11  tempo             147 non-null    float64\n",
      " 12  duration_ms       147 non-null    int64  \n",
      "dtypes: float64(9), int64(4)\n",
      "memory usage: 15.1 KB\n"
     ]
    }
   ],
   "source": [
    "dataset_standarirasi.info()"
   ]
  },
  {
   "cell_type": "code",
   "execution_count": 96,
   "id": "638be917",
   "metadata": {},
   "outputs": [
    {
     "name": "stdout",
     "output_type": "stream",
     "text": [
      "Dataset sebelum scalling:\n",
      "Nilai standar deviasi:\n",
      "Unnamed: 0             42.434263\n",
      "danceability            0.107521\n",
      "energy                  0.139148\n",
      "key                     3.584498\n",
      "loudness                1.663766\n",
      "mode                    0.496645\n",
      "speechiness             0.118872\n",
      "acousticness            0.136852\n",
      "instrumentalness        0.000266\n",
      "liveness                0.146885\n",
      "valence                 0.188679\n",
      "tempo                  27.596832\n",
      "duration_ms         33768.018914\n",
      "dtype: float64\n",
      "\n",
      "Dataset setelah scalling:\n",
      "[[-1.72030795 -0.38777556 -0.27993547 -1.53343598  0.32992939 -1.12318229\n",
      "  -0.09028195  1.24599426 -0.14716992  0.23376124  1.19859507 -0.75618929\n",
      "   0.00383549]\n",
      " [-1.69674209 -1.74565435  0.7477494  -0.97547784 -0.27111681  0.89032743\n",
      "   2.90454258 -0.64363672 -0.14115282  2.05150798  0.37179378  1.68307622\n",
      "  -0.3008907 ]\n",
      " [-1.67317623  1.21191726  1.34423782  0.69839659 -0.23264986 -1.12318229\n",
      "   0.2209779  -0.66519283 -0.12359039 -0.02494429  1.7285959   0.82373845\n",
      "  -0.18933545]\n",
      " [-1.64961037  0.91429999  1.40891729  1.5353338   1.30723051 -1.12318229\n",
      "   1.17999474  0.74910754 -0.14716992 -0.48789102  0.72159433 -0.11966695\n",
      "   0.45624581]\n",
      " [-1.62604451  0.26326221  0.20875384 -1.53343598 -1.13061288  0.89032743\n",
      "  -0.26105425 -0.67520364 -0.14716992  0.71713209  0.01669322 -1.06075323\n",
      "   0.87951612]\n",
      " [-1.60247864  1.1282124  -0.15057654  0.41941752 -0.9448896   0.89032743\n",
      "  -0.04821981 -0.42442199 -0.14716992  0.3971542   0.77989442 -0.91769333\n",
      "   0.49850473]]\n",
      "Nilai standar deviasi: 1.0\n"
     ]
    }
   ],
   "source": [
    "standart_std = StandardScaler()\n",
    "\n",
    "scaled_data = standart_std.fit_transform(dataset_standarirasi)\n",
    "\n",
    "print('Dataset sebelum scalling:',  # SEBELUM\n",
    "      f'Nilai standar deviasi:\\n{np.std(dataset_standarirasi)}',\n",
    "      sep='\\n', end='\\n\\n')\n",
    "\n",
    "print('Dataset setelah scalling:',  # SESUDAH\n",
    "      scaled_data[:6],\n",
    "      f'Nilai standar deviasi: {np.std(scaled_data)}',\n",
    "      sep='\\n')"
   ]
  },
  {
   "cell_type": "code",
   "execution_count": 97,
   "id": "0b2495d8",
   "metadata": {},
   "outputs": [],
   "source": [
    "dataset_ns = df.copy()"
   ]
  },
  {
   "cell_type": "code",
   "execution_count": 98,
   "id": "78a2174c",
   "metadata": {},
   "outputs": [],
   "source": [
    "imputer_mean = SimpleImputer(strategy='mean')\n",
    "imputer_median = SimpleImputer(strategy='median')\n",
    "imputer_modus = SimpleImputer(strategy='most_frequent')"
   ]
  },
  {
   "cell_type": "code",
   "execution_count": 99,
   "id": "34ed82c6",
   "metadata": {},
   "outputs": [
    {
     "data": {
      "text/plain": [
       "Unnamed: 0          0\n",
       "Title               0\n",
       "Artist              0\n",
       "Release             0\n",
       "danceability        0\n",
       "energy              0\n",
       "key                 0\n",
       "loudness            0\n",
       "mode                0\n",
       "speechiness         0\n",
       "acousticness        0\n",
       "instrumentalness    0\n",
       "liveness            0\n",
       "valence             0\n",
       "tempo               0\n",
       "id                  0\n",
       "duration_ms         0\n",
       "dtype: int64"
      ]
     },
     "execution_count": 99,
     "metadata": {},
     "output_type": "execute_result"
    }
   ],
   "source": [
    "df.isna().sum()"
   ]
  },
  {
   "cell_type": "code",
   "execution_count": 100,
   "id": "76fdb606",
   "metadata": {},
   "outputs": [],
   "source": [
    "dfmodus = df.copy()"
   ]
  },
  {
   "cell_type": "code",
   "execution_count": 101,
   "id": "9729d275",
   "metadata": {},
   "outputs": [
    {
     "data": {
      "text/plain": [
       "Unnamed: 0          0\n",
       "Title               0\n",
       "Artist              0\n",
       "Release             0\n",
       "danceability        0\n",
       "energy              0\n",
       "key                 0\n",
       "loudness            0\n",
       "mode                0\n",
       "speechiness         0\n",
       "acousticness        0\n",
       "instrumentalness    0\n",
       "liveness            0\n",
       "valence             0\n",
       "tempo               0\n",
       "id                  0\n",
       "duration_ms         0\n",
       "dtype: int64"
      ]
     },
     "execution_count": 101,
     "metadata": {},
     "output_type": "execute_result"
    }
   ],
   "source": [
    "dfmodus['Artist'] = imputer_modus.fit_transform(dfmodus[['Artist']])\n",
    "dfmodus.isna().sum()"
   ]
  },
  {
   "cell_type": "code",
   "execution_count": 102,
   "id": "c2b6764c",
   "metadata": {},
   "outputs": [
    {
     "data": {
      "text/plain": [
       "0"
      ]
     },
     "execution_count": 102,
     "metadata": {},
     "output_type": "execute_result"
    }
   ],
   "source": [
    "df2 = pd.read_csv('Copy.csv')\n",
    "df2.head()\n",
    "dataset_duplicate = df2.copy()\n",
    "\n",
    "dataset_duplicate.duplicated().sum()"
   ]
  },
  {
   "cell_type": "code",
   "execution_count": 103,
   "id": "040d53cc",
   "metadata": {},
   "outputs": [
    {
     "data": {
      "text/plain": [
       "0"
      ]
     },
     "execution_count": 103,
     "metadata": {},
     "output_type": "execute_result"
    }
   ],
   "source": [
    "dataset_duplicate.drop_duplicates(inplace=True)\n",
    "\n",
    "dataset_duplicate.duplicated().sum()"
   ]
  },
  {
   "cell_type": "code",
   "execution_count": 104,
   "id": "59696242",
   "metadata": {},
   "outputs": [],
   "source": [
    "dataset_ordinal = df.copy()\n",
    "dataset_one_hot = df.copy()"
   ]
  },
  {
   "cell_type": "code",
   "execution_count": 105,
   "id": "81255fba",
   "metadata": {},
   "outputs": [
    {
     "data": {
      "text/plain": [
       "array(['BTS', 'BTS, Nichi Minaj', 'BTS, Steve Aoki', 'Steve Aoki, BTS',\n",
       "       'BTS, Halsey', 'BTS, Charli XCX', 'BTS, Zara Larsson',\n",
       "       'Lil Nas X, RM, BTS', 'BTS, Lauv', 'BTS, Sia',\n",
       "       'Jawsh 685, Jason Derulo, BTS', 'BTS, Megan Thee Stallion',\n",
       "       'Coldplay, BTS', 'Coldplay, BTS, SUGA', 'Coldplay, BTS, Galantis'],\n",
       "      dtype=object)"
      ]
     },
     "execution_count": 105,
     "metadata": {},
     "output_type": "execute_result"
    }
   ],
   "source": [
    "df['Artist'].unique()"
   ]
  },
  {
   "cell_type": "code",
   "execution_count": 106,
   "id": "c71d2ab5",
   "metadata": {},
   "outputs": [
    {
     "data": {
      "text/html": [
       "<div>\n",
       "<style scoped>\n",
       "    .dataframe tbody tr th:only-of-type {\n",
       "        vertical-align: middle;\n",
       "    }\n",
       "\n",
       "    .dataframe tbody tr th {\n",
       "        vertical-align: top;\n",
       "    }\n",
       "\n",
       "    .dataframe thead th {\n",
       "        text-align: right;\n",
       "    }\n",
       "</style>\n",
       "<table border=\"1\" class=\"dataframe\">\n",
       "  <thead>\n",
       "    <tr style=\"text-align: right;\">\n",
       "      <th></th>\n",
       "      <th>Unnamed: 0</th>\n",
       "      <th>Title</th>\n",
       "      <th>Artist</th>\n",
       "      <th>Release</th>\n",
       "      <th>danceability</th>\n",
       "      <th>energy</th>\n",
       "      <th>key</th>\n",
       "      <th>loudness</th>\n",
       "      <th>mode</th>\n",
       "      <th>speechiness</th>\n",
       "      <th>acousticness</th>\n",
       "      <th>instrumentalness</th>\n",
       "      <th>liveness</th>\n",
       "      <th>valence</th>\n",
       "      <th>tempo</th>\n",
       "      <th>id</th>\n",
       "      <th>duration_ms</th>\n",
       "    </tr>\n",
       "  </thead>\n",
       "  <tbody>\n",
       "    <tr>\n",
       "      <th>0</th>\n",
       "      <td>1</td>\n",
       "      <td>Like</td>\n",
       "      <td>0</td>\n",
       "      <td>2013/6/12</td>\n",
       "      <td>0.582</td>\n",
       "      <td>0.726</td>\n",
       "      <td>0</td>\n",
       "      <td>-4.174</td>\n",
       "      <td>0</td>\n",
       "      <td>0.1160</td>\n",
       "      <td>0.27100</td>\n",
       "      <td>0.000000</td>\n",
       "      <td>0.227</td>\n",
       "      <td>0.768</td>\n",
       "      <td>100.450</td>\n",
       "      <td>1HQHuPpr2s2z3VIBTLtUmv</td>\n",
       "      <td>231883</td>\n",
       "    </tr>\n",
       "    <tr>\n",
       "      <th>1</th>\n",
       "      <td>2</td>\n",
       "      <td>No More Dream</td>\n",
       "      <td>0</td>\n",
       "      <td>2013/6/12</td>\n",
       "      <td>0.436</td>\n",
       "      <td>0.869</td>\n",
       "      <td>2</td>\n",
       "      <td>-5.174</td>\n",
       "      <td>1</td>\n",
       "      <td>0.4720</td>\n",
       "      <td>0.01240</td>\n",
       "      <td>0.000002</td>\n",
       "      <td>0.494</td>\n",
       "      <td>0.612</td>\n",
       "      <td>167.766</td>\n",
       "      <td>4frlkLwlnm58ejpNwWjxyl</td>\n",
       "      <td>221593</td>\n",
       "    </tr>\n",
       "    <tr>\n",
       "      <th>2</th>\n",
       "      <td>3</td>\n",
       "      <td>We Are Bulletproof Pt.2</td>\n",
       "      <td>0</td>\n",
       "      <td>2013/6/12</td>\n",
       "      <td>0.754</td>\n",
       "      <td>0.952</td>\n",
       "      <td>8</td>\n",
       "      <td>-5.110</td>\n",
       "      <td>0</td>\n",
       "      <td>0.1530</td>\n",
       "      <td>0.00945</td>\n",
       "      <td>0.000006</td>\n",
       "      <td>0.189</td>\n",
       "      <td>0.868</td>\n",
       "      <td>144.051</td>\n",
       "      <td>2Kspa0jD2MSkaEdonf4Cnb</td>\n",
       "      <td>225360</td>\n",
       "    </tr>\n",
       "    <tr>\n",
       "      <th>3</th>\n",
       "      <td>4</td>\n",
       "      <td>Attack on Bangtan</td>\n",
       "      <td>0</td>\n",
       "      <td>2013/9/11</td>\n",
       "      <td>0.722</td>\n",
       "      <td>0.961</td>\n",
       "      <td>11</td>\n",
       "      <td>-2.548</td>\n",
       "      <td>0</td>\n",
       "      <td>0.2670</td>\n",
       "      <td>0.20300</td>\n",
       "      <td>0.000000</td>\n",
       "      <td>0.121</td>\n",
       "      <td>0.678</td>\n",
       "      <td>118.016</td>\n",
       "      <td>6bCoSWW1zyQrwQDSMEmsVy</td>\n",
       "      <td>247160</td>\n",
       "    </tr>\n",
       "    <tr>\n",
       "      <th>4</th>\n",
       "      <td>5</td>\n",
       "      <td>Coffee</td>\n",
       "      <td>0</td>\n",
       "      <td>2013/9/11</td>\n",
       "      <td>0.652</td>\n",
       "      <td>0.794</td>\n",
       "      <td>0</td>\n",
       "      <td>-6.604</td>\n",
       "      <td>1</td>\n",
       "      <td>0.0957</td>\n",
       "      <td>0.00808</td>\n",
       "      <td>0.000000</td>\n",
       "      <td>0.298</td>\n",
       "      <td>0.545</td>\n",
       "      <td>92.045</td>\n",
       "      <td>0Tb8sBQ9fseZbDRzRSxTdi</td>\n",
       "      <td>261453</td>\n",
       "    </tr>\n",
       "  </tbody>\n",
       "</table>\n",
       "</div>"
      ],
      "text/plain": [
       "   Unnamed: 0                    Title  Artist    Release  danceability  \\\n",
       "0           1                     Like       0  2013/6/12         0.582   \n",
       "1           2            No More Dream       0  2013/6/12         0.436   \n",
       "2           3  We Are Bulletproof Pt.2       0  2013/6/12         0.754   \n",
       "3           4        Attack on Bangtan       0  2013/9/11         0.722   \n",
       "4           5                   Coffee       0  2013/9/11         0.652   \n",
       "\n",
       "   energy  key  loudness  mode  speechiness  acousticness  instrumentalness  \\\n",
       "0   0.726    0    -4.174     0       0.1160       0.27100          0.000000   \n",
       "1   0.869    2    -5.174     1       0.4720       0.01240          0.000002   \n",
       "2   0.952    8    -5.110     0       0.1530       0.00945          0.000006   \n",
       "3   0.961   11    -2.548     0       0.2670       0.20300          0.000000   \n",
       "4   0.794    0    -6.604     1       0.0957       0.00808          0.000000   \n",
       "\n",
       "   liveness  valence    tempo                      id  duration_ms  \n",
       "0     0.227    0.768  100.450  1HQHuPpr2s2z3VIBTLtUmv       231883  \n",
       "1     0.494    0.612  167.766  4frlkLwlnm58ejpNwWjxyl       221593  \n",
       "2     0.189    0.868  144.051  2Kspa0jD2MSkaEdonf4Cnb       225360  \n",
       "3     0.121    0.678  118.016  6bCoSWW1zyQrwQDSMEmsVy       247160  \n",
       "4     0.298    0.545   92.045  0Tb8sBQ9fseZbDRzRSxTdi       261453  "
      ]
     },
     "execution_count": 106,
     "metadata": {},
     "output_type": "execute_result"
    }
   ],
   "source": [
    "encoder_ordinal =OrdinalEncoder()\n",
    "\n",
    "#encoding kan\n",
    "dataset_ordinal['Artist'] = encoder_ordinal.fit_transform(dataset_ordinal[['Artist']]).astype('int64')\n",
    "\n",
    "#lihat\n",
    "dataset_ordinal.head()"
   ]
  },
  {
   "cell_type": "code",
   "execution_count": 107,
   "id": "7689c4bb",
   "metadata": {},
   "outputs": [
    {
     "data": {
      "text/plain": [
       "array([ 0,  5,  7, 14,  2,  1,  8, 13,  3,  6, 12,  4,  9, 11, 10],\n",
       "      dtype=int64)"
      ]
     },
     "execution_count": 107,
     "metadata": {},
     "output_type": "execute_result"
    }
   ],
   "source": [
    "dataset_ordinal['Artist'].unique()"
   ]
  },
  {
   "cell_type": "code",
   "execution_count": 108,
   "id": "da0409ae",
   "metadata": {},
   "outputs": [
    {
     "data": {
      "text/html": [
       "<div>\n",
       "<style scoped>\n",
       "    .dataframe tbody tr th:only-of-type {\n",
       "        vertical-align: middle;\n",
       "    }\n",
       "\n",
       "    .dataframe tbody tr th {\n",
       "        vertical-align: top;\n",
       "    }\n",
       "\n",
       "    .dataframe thead th {\n",
       "        text-align: right;\n",
       "    }\n",
       "</style>\n",
       "<table border=\"1\" class=\"dataframe\">\n",
       "  <thead>\n",
       "    <tr style=\"text-align: right;\">\n",
       "      <th></th>\n",
       "      <th>Unnamed: 0</th>\n",
       "      <th>Title</th>\n",
       "      <th>Release</th>\n",
       "      <th>danceability</th>\n",
       "      <th>energy</th>\n",
       "      <th>key</th>\n",
       "      <th>loudness</th>\n",
       "      <th>mode</th>\n",
       "      <th>speechiness</th>\n",
       "      <th>acousticness</th>\n",
       "      <th>...</th>\n",
       "      <th>Artist_BTS, Nichi Minaj</th>\n",
       "      <th>Artist_BTS, Sia</th>\n",
       "      <th>Artist_BTS, Steve Aoki</th>\n",
       "      <th>Artist_BTS, Zara Larsson</th>\n",
       "      <th>Artist_Coldplay, BTS</th>\n",
       "      <th>Artist_Coldplay, BTS, Galantis</th>\n",
       "      <th>Artist_Coldplay, BTS, SUGA</th>\n",
       "      <th>Artist_Jawsh 685, Jason Derulo, BTS</th>\n",
       "      <th>Artist_Lil Nas X, RM, BTS</th>\n",
       "      <th>Artist_Steve Aoki, BTS</th>\n",
       "    </tr>\n",
       "  </thead>\n",
       "  <tbody>\n",
       "    <tr>\n",
       "      <th>0</th>\n",
       "      <td>1</td>\n",
       "      <td>Like</td>\n",
       "      <td>2013/6/12</td>\n",
       "      <td>0.582</td>\n",
       "      <td>0.726</td>\n",
       "      <td>0</td>\n",
       "      <td>-4.174</td>\n",
       "      <td>0</td>\n",
       "      <td>0.1160</td>\n",
       "      <td>0.27100</td>\n",
       "      <td>...</td>\n",
       "      <td>0</td>\n",
       "      <td>0</td>\n",
       "      <td>0</td>\n",
       "      <td>0</td>\n",
       "      <td>0</td>\n",
       "      <td>0</td>\n",
       "      <td>0</td>\n",
       "      <td>0</td>\n",
       "      <td>0</td>\n",
       "      <td>0</td>\n",
       "    </tr>\n",
       "    <tr>\n",
       "      <th>1</th>\n",
       "      <td>2</td>\n",
       "      <td>No More Dream</td>\n",
       "      <td>2013/6/12</td>\n",
       "      <td>0.436</td>\n",
       "      <td>0.869</td>\n",
       "      <td>2</td>\n",
       "      <td>-5.174</td>\n",
       "      <td>1</td>\n",
       "      <td>0.4720</td>\n",
       "      <td>0.01240</td>\n",
       "      <td>...</td>\n",
       "      <td>0</td>\n",
       "      <td>0</td>\n",
       "      <td>0</td>\n",
       "      <td>0</td>\n",
       "      <td>0</td>\n",
       "      <td>0</td>\n",
       "      <td>0</td>\n",
       "      <td>0</td>\n",
       "      <td>0</td>\n",
       "      <td>0</td>\n",
       "    </tr>\n",
       "    <tr>\n",
       "      <th>2</th>\n",
       "      <td>3</td>\n",
       "      <td>We Are Bulletproof Pt.2</td>\n",
       "      <td>2013/6/12</td>\n",
       "      <td>0.754</td>\n",
       "      <td>0.952</td>\n",
       "      <td>8</td>\n",
       "      <td>-5.110</td>\n",
       "      <td>0</td>\n",
       "      <td>0.1530</td>\n",
       "      <td>0.00945</td>\n",
       "      <td>...</td>\n",
       "      <td>0</td>\n",
       "      <td>0</td>\n",
       "      <td>0</td>\n",
       "      <td>0</td>\n",
       "      <td>0</td>\n",
       "      <td>0</td>\n",
       "      <td>0</td>\n",
       "      <td>0</td>\n",
       "      <td>0</td>\n",
       "      <td>0</td>\n",
       "    </tr>\n",
       "    <tr>\n",
       "      <th>3</th>\n",
       "      <td>4</td>\n",
       "      <td>Attack on Bangtan</td>\n",
       "      <td>2013/9/11</td>\n",
       "      <td>0.722</td>\n",
       "      <td>0.961</td>\n",
       "      <td>11</td>\n",
       "      <td>-2.548</td>\n",
       "      <td>0</td>\n",
       "      <td>0.2670</td>\n",
       "      <td>0.20300</td>\n",
       "      <td>...</td>\n",
       "      <td>0</td>\n",
       "      <td>0</td>\n",
       "      <td>0</td>\n",
       "      <td>0</td>\n",
       "      <td>0</td>\n",
       "      <td>0</td>\n",
       "      <td>0</td>\n",
       "      <td>0</td>\n",
       "      <td>0</td>\n",
       "      <td>0</td>\n",
       "    </tr>\n",
       "    <tr>\n",
       "      <th>4</th>\n",
       "      <td>5</td>\n",
       "      <td>Coffee</td>\n",
       "      <td>2013/9/11</td>\n",
       "      <td>0.652</td>\n",
       "      <td>0.794</td>\n",
       "      <td>0</td>\n",
       "      <td>-6.604</td>\n",
       "      <td>1</td>\n",
       "      <td>0.0957</td>\n",
       "      <td>0.00808</td>\n",
       "      <td>...</td>\n",
       "      <td>0</td>\n",
       "      <td>0</td>\n",
       "      <td>0</td>\n",
       "      <td>0</td>\n",
       "      <td>0</td>\n",
       "      <td>0</td>\n",
       "      <td>0</td>\n",
       "      <td>0</td>\n",
       "      <td>0</td>\n",
       "      <td>0</td>\n",
       "    </tr>\n",
       "  </tbody>\n",
       "</table>\n",
       "<p>5 rows × 31 columns</p>\n",
       "</div>"
      ],
      "text/plain": [
       "   Unnamed: 0                    Title    Release  danceability  energy  key  \\\n",
       "0           1                     Like  2013/6/12         0.582   0.726    0   \n",
       "1           2            No More Dream  2013/6/12         0.436   0.869    2   \n",
       "2           3  We Are Bulletproof Pt.2  2013/6/12         0.754   0.952    8   \n",
       "3           4        Attack on Bangtan  2013/9/11         0.722   0.961   11   \n",
       "4           5                   Coffee  2013/9/11         0.652   0.794    0   \n",
       "\n",
       "   loudness  mode  speechiness  acousticness  ...  Artist_BTS, Nichi Minaj  \\\n",
       "0    -4.174     0       0.1160       0.27100  ...                        0   \n",
       "1    -5.174     1       0.4720       0.01240  ...                        0   \n",
       "2    -5.110     0       0.1530       0.00945  ...                        0   \n",
       "3    -2.548     0       0.2670       0.20300  ...                        0   \n",
       "4    -6.604     1       0.0957       0.00808  ...                        0   \n",
       "\n",
       "   Artist_BTS, Sia  Artist_BTS, Steve Aoki  Artist_BTS, Zara Larsson  \\\n",
       "0                0                       0                         0   \n",
       "1                0                       0                         0   \n",
       "2                0                       0                         0   \n",
       "3                0                       0                         0   \n",
       "4                0                       0                         0   \n",
       "\n",
       "  Artist_Coldplay, BTS  Artist_Coldplay, BTS, Galantis  \\\n",
       "0                    0                               0   \n",
       "1                    0                               0   \n",
       "2                    0                               0   \n",
       "3                    0                               0   \n",
       "4                    0                               0   \n",
       "\n",
       "   Artist_Coldplay, BTS, SUGA  Artist_Jawsh 685, Jason Derulo, BTS  \\\n",
       "0                           0                                    0   \n",
       "1                           0                                    0   \n",
       "2                           0                                    0   \n",
       "3                           0                                    0   \n",
       "4                           0                                    0   \n",
       "\n",
       "   Artist_Lil Nas X, RM, BTS  Artist_Steve Aoki, BTS  \n",
       "0                          0                       0  \n",
       "1                          0                       0  \n",
       "2                          0                       0  \n",
       "3                          0                       0  \n",
       "4                          0                       0  \n",
       "\n",
       "[5 rows x 31 columns]"
      ]
     },
     "execution_count": 108,
     "metadata": {},
     "output_type": "execute_result"
    }
   ],
   "source": [
    "temp_dataset = pd.get_dummies(dataset_one_hot[['Artist']])\n",
    "\n",
    "temp_dataset = pd.DataFrame(temp_dataset)\n",
    "\n",
    "dataset_one_hot.drop('Artist', axis=1, inplace=True)\n",
    "\n",
    "dataset_one_hot = dataset_one_hot.join(temp_dataset)\n",
    "dataset_one_hot.head(5)"
   ]
  },
  {
   "cell_type": "code",
   "execution_count": 109,
   "id": "e24f5050",
   "metadata": {},
   "outputs": [
    {
     "data": {
      "text/html": [
       "<div>\n",
       "<style scoped>\n",
       "    .dataframe tbody tr th:only-of-type {\n",
       "        vertical-align: middle;\n",
       "    }\n",
       "\n",
       "    .dataframe tbody tr th {\n",
       "        vertical-align: top;\n",
       "    }\n",
       "\n",
       "    .dataframe thead th {\n",
       "        text-align: right;\n",
       "    }\n",
       "</style>\n",
       "<table border=\"1\" class=\"dataframe\">\n",
       "  <thead>\n",
       "    <tr style=\"text-align: right;\">\n",
       "      <th></th>\n",
       "      <th>Unnamed: 0</th>\n",
       "      <th>Title</th>\n",
       "      <th>Artist</th>\n",
       "      <th>Release</th>\n",
       "      <th>danceability</th>\n",
       "      <th>energy</th>\n",
       "      <th>key</th>\n",
       "      <th>loudness</th>\n",
       "      <th>mode</th>\n",
       "      <th>speechiness</th>\n",
       "      <th>acousticness</th>\n",
       "      <th>instrumentalness</th>\n",
       "      <th>liveness</th>\n",
       "      <th>valence</th>\n",
       "      <th>tempo</th>\n",
       "      <th>id</th>\n",
       "      <th>duration_ms</th>\n",
       "    </tr>\n",
       "  </thead>\n",
       "  <tbody>\n",
       "    <tr>\n",
       "      <th>0</th>\n",
       "      <td>1</td>\n",
       "      <td>Like</td>\n",
       "      <td>BTS</td>\n",
       "      <td>2013/6/12</td>\n",
       "      <td>0.582</td>\n",
       "      <td>0.726</td>\n",
       "      <td>0</td>\n",
       "      <td>-4.174</td>\n",
       "      <td>0</td>\n",
       "      <td>0.1160</td>\n",
       "      <td>0.27100</td>\n",
       "      <td>0.000000</td>\n",
       "      <td>0.227</td>\n",
       "      <td>0.768</td>\n",
       "      <td>100.450</td>\n",
       "      <td>1HQHuPpr2s2z3VIBTLtUmv</td>\n",
       "      <td>231883</td>\n",
       "    </tr>\n",
       "    <tr>\n",
       "      <th>1</th>\n",
       "      <td>2</td>\n",
       "      <td>No More Dream</td>\n",
       "      <td>BTS</td>\n",
       "      <td>2013/6/12</td>\n",
       "      <td>0.436</td>\n",
       "      <td>0.869</td>\n",
       "      <td>2</td>\n",
       "      <td>-5.174</td>\n",
       "      <td>1</td>\n",
       "      <td>0.4720</td>\n",
       "      <td>0.01240</td>\n",
       "      <td>0.000002</td>\n",
       "      <td>0.494</td>\n",
       "      <td>0.612</td>\n",
       "      <td>167.766</td>\n",
       "      <td>4frlkLwlnm58ejpNwWjxyl</td>\n",
       "      <td>221593</td>\n",
       "    </tr>\n",
       "    <tr>\n",
       "      <th>2</th>\n",
       "      <td>3</td>\n",
       "      <td>We Are Bulletproof Pt.2</td>\n",
       "      <td>BTS</td>\n",
       "      <td>2013/6/12</td>\n",
       "      <td>0.754</td>\n",
       "      <td>0.952</td>\n",
       "      <td>8</td>\n",
       "      <td>-5.110</td>\n",
       "      <td>0</td>\n",
       "      <td>0.1530</td>\n",
       "      <td>0.00945</td>\n",
       "      <td>0.000006</td>\n",
       "      <td>0.189</td>\n",
       "      <td>0.868</td>\n",
       "      <td>144.051</td>\n",
       "      <td>2Kspa0jD2MSkaEdonf4Cnb</td>\n",
       "      <td>225360</td>\n",
       "    </tr>\n",
       "    <tr>\n",
       "      <th>3</th>\n",
       "      <td>4</td>\n",
       "      <td>Attack on Bangtan</td>\n",
       "      <td>BTS</td>\n",
       "      <td>2013/9/11</td>\n",
       "      <td>0.722</td>\n",
       "      <td>0.961</td>\n",
       "      <td>11</td>\n",
       "      <td>-2.548</td>\n",
       "      <td>0</td>\n",
       "      <td>0.2670</td>\n",
       "      <td>0.20300</td>\n",
       "      <td>0.000000</td>\n",
       "      <td>0.121</td>\n",
       "      <td>0.678</td>\n",
       "      <td>118.016</td>\n",
       "      <td>6bCoSWW1zyQrwQDSMEmsVy</td>\n",
       "      <td>247160</td>\n",
       "    </tr>\n",
       "    <tr>\n",
       "      <th>4</th>\n",
       "      <td>5</td>\n",
       "      <td>Coffee</td>\n",
       "      <td>BTS</td>\n",
       "      <td>2013/9/11</td>\n",
       "      <td>0.652</td>\n",
       "      <td>0.794</td>\n",
       "      <td>0</td>\n",
       "      <td>-6.604</td>\n",
       "      <td>1</td>\n",
       "      <td>0.0957</td>\n",
       "      <td>0.00808</td>\n",
       "      <td>0.000000</td>\n",
       "      <td>0.298</td>\n",
       "      <td>0.545</td>\n",
       "      <td>92.045</td>\n",
       "      <td>0Tb8sBQ9fseZbDRzRSxTdi</td>\n",
       "      <td>261453</td>\n",
       "    </tr>\n",
       "  </tbody>\n",
       "</table>\n",
       "</div>"
      ],
      "text/plain": [
       "   Unnamed: 0                    Title Artist    Release  danceability  \\\n",
       "0           1                     Like    BTS  2013/6/12         0.582   \n",
       "1           2            No More Dream    BTS  2013/6/12         0.436   \n",
       "2           3  We Are Bulletproof Pt.2    BTS  2013/6/12         0.754   \n",
       "3           4        Attack on Bangtan    BTS  2013/9/11         0.722   \n",
       "4           5                   Coffee    BTS  2013/9/11         0.652   \n",
       "\n",
       "   energy  key  loudness  mode  speechiness  acousticness  instrumentalness  \\\n",
       "0   0.726    0    -4.174     0       0.1160       0.27100          0.000000   \n",
       "1   0.869    2    -5.174     1       0.4720       0.01240          0.000002   \n",
       "2   0.952    8    -5.110     0       0.1530       0.00945          0.000006   \n",
       "3   0.961   11    -2.548     0       0.2670       0.20300          0.000000   \n",
       "4   0.794    0    -6.604     1       0.0957       0.00808          0.000000   \n",
       "\n",
       "   liveness  valence    tempo                      id  duration_ms  \n",
       "0     0.227    0.768  100.450  1HQHuPpr2s2z3VIBTLtUmv       231883  \n",
       "1     0.494    0.612  167.766  4frlkLwlnm58ejpNwWjxyl       221593  \n",
       "2     0.189    0.868  144.051  2Kspa0jD2MSkaEdonf4Cnb       225360  \n",
       "3     0.121    0.678  118.016  6bCoSWW1zyQrwQDSMEmsVy       247160  \n",
       "4     0.298    0.545   92.045  0Tb8sBQ9fseZbDRzRSxTdi       261453  "
      ]
     },
     "execution_count": 109,
     "metadata": {},
     "output_type": "execute_result"
    }
   ],
   "source": [
    "dataset =pd.read_csv('SpotifyBTS.csv')\n",
    "dataset.head()"
   ]
  },
  {
   "cell_type": "code",
   "execution_count": 110,
   "id": "369ce127",
   "metadata": {},
   "outputs": [],
   "source": [
    "points_linkage = dataset.iloc[:,[2,3]].values\n",
    "points_complete = dataset.iloc[:,[2,3]].values"
   ]
  },
  {
   "cell_type": "code",
   "execution_count": 111,
   "id": "757d4e9f",
   "metadata": {},
   "outputs": [
    {
     "ename": "ValueError",
     "evalue": "could not convert string to float: 'BTS'",
     "output_type": "error",
     "traceback": [
      "\u001b[1;31m---------------------------------------------------------------------------\u001b[0m",
      "\u001b[1;31mValueError\u001b[0m                                Traceback (most recent call last)",
      "Cell \u001b[1;32mIn [111], line 1\u001b[0m\n\u001b[1;32m----> 1\u001b[0m linkage_hr \u001b[38;5;241m=\u001b[39m \u001b[43mlinkage\u001b[49m\u001b[43m(\u001b[49m\u001b[43mpoints_linkage\u001b[49m\u001b[43m,\u001b[49m\u001b[43m \u001b[49m\u001b[43mmethod\u001b[49m\u001b[43m \u001b[49m\u001b[38;5;241;43m=\u001b[39;49m\u001b[38;5;124;43m'\u001b[39;49m\u001b[38;5;124;43mward\u001b[39;49m\u001b[38;5;124;43m'\u001b[39;49m\u001b[43m)\u001b[49m\n\u001b[0;32m      2\u001b[0m complete_hr \u001b[38;5;241m=\u001b[39m complete(points_complete)\n",
      "File \u001b[1;32mc:\\users\\user\\appdata\\local\\programs\\python\\python39\\lib\\site-packages\\scipy\\cluster\\hierarchy.py:1046\u001b[0m, in \u001b[0;36mlinkage\u001b[1;34m(y, method, metric, optimal_ordering)\u001b[0m\n\u001b[0;32m   1043\u001b[0m \u001b[38;5;28;01mif\u001b[39;00m method \u001b[38;5;129;01mnot\u001b[39;00m \u001b[38;5;129;01min\u001b[39;00m _LINKAGE_METHODS:\n\u001b[0;32m   1044\u001b[0m     \u001b[38;5;28;01mraise\u001b[39;00m \u001b[38;5;167;01mValueError\u001b[39;00m(\u001b[38;5;124m\"\u001b[39m\u001b[38;5;124mInvalid method: \u001b[39m\u001b[38;5;132;01m{0}\u001b[39;00m\u001b[38;5;124m\"\u001b[39m\u001b[38;5;241m.\u001b[39mformat(method))\n\u001b[1;32m-> 1046\u001b[0m y \u001b[38;5;241m=\u001b[39m \u001b[43m_convert_to_double\u001b[49m\u001b[43m(\u001b[49m\u001b[43mnp\u001b[49m\u001b[38;5;241;43m.\u001b[39;49m\u001b[43masarray\u001b[49m\u001b[43m(\u001b[49m\u001b[43my\u001b[49m\u001b[43m,\u001b[49m\u001b[43m \u001b[49m\u001b[43morder\u001b[49m\u001b[38;5;241;43m=\u001b[39;49m\u001b[38;5;124;43m'\u001b[39;49m\u001b[38;5;124;43mc\u001b[39;49m\u001b[38;5;124;43m'\u001b[39;49m\u001b[43m)\u001b[49m\u001b[43m)\u001b[49m\n\u001b[0;32m   1048\u001b[0m \u001b[38;5;28;01mif\u001b[39;00m y\u001b[38;5;241m.\u001b[39mndim \u001b[38;5;241m==\u001b[39m \u001b[38;5;241m1\u001b[39m:\n\u001b[0;32m   1049\u001b[0m     distance\u001b[38;5;241m.\u001b[39mis_valid_y(y, throw\u001b[38;5;241m=\u001b[39m\u001b[38;5;28;01mTrue\u001b[39;00m, name\u001b[38;5;241m=\u001b[39m\u001b[38;5;124m'\u001b[39m\u001b[38;5;124my\u001b[39m\u001b[38;5;124m'\u001b[39m)\n",
      "File \u001b[1;32mc:\\users\\user\\appdata\\local\\programs\\python\\python39\\lib\\site-packages\\scipy\\cluster\\hierarchy.py:1572\u001b[0m, in \u001b[0;36m_convert_to_double\u001b[1;34m(X)\u001b[0m\n\u001b[0;32m   1570\u001b[0m \u001b[38;5;28;01mdef\u001b[39;00m \u001b[38;5;21m_convert_to_double\u001b[39m(X):\n\u001b[0;32m   1571\u001b[0m     \u001b[38;5;28;01mif\u001b[39;00m X\u001b[38;5;241m.\u001b[39mdtype \u001b[38;5;241m!=\u001b[39m np\u001b[38;5;241m.\u001b[39mdouble:\n\u001b[1;32m-> 1572\u001b[0m         X \u001b[38;5;241m=\u001b[39m \u001b[43mX\u001b[49m\u001b[38;5;241;43m.\u001b[39;49m\u001b[43mastype\u001b[49m\u001b[43m(\u001b[49m\u001b[43mnp\u001b[49m\u001b[38;5;241;43m.\u001b[39;49m\u001b[43mdouble\u001b[49m\u001b[43m)\u001b[49m\n\u001b[0;32m   1573\u001b[0m     \u001b[38;5;28;01mif\u001b[39;00m \u001b[38;5;129;01mnot\u001b[39;00m X\u001b[38;5;241m.\u001b[39mflags\u001b[38;5;241m.\u001b[39mcontiguous:\n\u001b[0;32m   1574\u001b[0m         X \u001b[38;5;241m=\u001b[39m X\u001b[38;5;241m.\u001b[39mcopy()\n",
      "\u001b[1;31mValueError\u001b[0m: could not convert string to float: 'BTS'"
     ]
    }
   ],
   "source": [
    "linkage_hr = linkage(points_linkage, method ='ward')\n",
    "complete_hr = complete(points_complete)"
   ]
  },
  {
   "cell_type": "code",
   "execution_count": 112,
   "id": "732de8e0",
   "metadata": {},
   "outputs": [
    {
     "ename": "NameError",
     "evalue": "name 'linkage_hr' is not defined",
     "output_type": "error",
     "traceback": [
      "\u001b[1;31m---------------------------------------------------------------------------\u001b[0m",
      "\u001b[1;31mNameError\u001b[0m                                 Traceback (most recent call last)",
      "Cell \u001b[1;32mIn [112], line 2\u001b[0m\n\u001b[0;32m      1\u001b[0m plt\u001b[38;5;241m.\u001b[39mfigure(\u001b[38;5;241m1\u001b[39m, figsize\u001b[38;5;241m=\u001b[39m(\u001b[38;5;241m14\u001b[39m, \u001b[38;5;241m7\u001b[39m))\n\u001b[1;32m----> 2\u001b[0m dendrogram(\u001b[43mlinkage_hr\u001b[49m)\n\u001b[0;32m      3\u001b[0m plt\u001b[38;5;241m.\u001b[39mtitle(\u001b[38;5;124m'\u001b[39m\u001b[38;5;124mDendrogram Linkage\u001b[39m\u001b[38;5;124m'\u001b[39m)\n\u001b[0;32m      4\u001b[0m plt\u001b[38;5;241m.\u001b[39mxlabel(\u001b[38;5;124m'\u001b[39m\u001b[38;5;124mdata\u001b[39m\u001b[38;5;124m'\u001b[39m)\n",
      "\u001b[1;31mNameError\u001b[0m: name 'linkage_hr' is not defined"
     ]
    },
    {
     "data": {
      "text/plain": [
       "<Figure size 1400x700 with 0 Axes>"
      ]
     },
     "metadata": {},
     "output_type": "display_data"
    }
   ],
   "source": [
    "plt.figure(1, figsize=(14, 7))\n",
    "dendrogram(linkage_hr)\n",
    "plt.title('Dendrogram Linkage')\n",
    "plt.xlabel('data')\n",
    "plt.ylabel('distance')\n",
    "\n",
    "plt.figure(2, figsize=(14, 7))\n",
    "dendrogram(complete_hr)\n",
    "plt.title('Dendrogram Complete')\n",
    "plt.xlabel('data')\n",
    "plt.ylabel('distance')\n",
    "\n",
    "plt.show()"
   ]
  },
  {
   "cell_type": "code",
   "execution_count": 113,
   "id": "ce6385c1",
   "metadata": {},
   "outputs": [],
   "source": [
    "agglo_linkage = AgglomerativeClustering(n_clusters=3, affinity='euclidean', linkage='ward')\n",
    "agglo_complete = AgglomerativeClustering(n_clusters=3, affinity='euclidean')"
   ]
  },
  {
   "cell_type": "code",
   "execution_count": 114,
   "id": "e4aab23f",
   "metadata": {},
   "outputs": [
    {
     "ename": "ValueError",
     "evalue": "could not convert string to float: 'BTS'",
     "output_type": "error",
     "traceback": [
      "\u001b[1;31m---------------------------------------------------------------------------\u001b[0m",
      "\u001b[1;31mValueError\u001b[0m                                Traceback (most recent call last)",
      "Cell \u001b[1;32mIn [114], line 1\u001b[0m\n\u001b[1;32m----> 1\u001b[0m pr_linkage \u001b[38;5;241m=\u001b[39m \u001b[43magglo_linkage\u001b[49m\u001b[38;5;241;43m.\u001b[39;49m\u001b[43mfit_predict\u001b[49m\u001b[43m(\u001b[49m\u001b[43mpoints_linkage\u001b[49m\u001b[43m)\u001b[49m\n\u001b[0;32m      2\u001b[0m pr_complete \u001b[38;5;241m=\u001b[39m agglo_complete\u001b[38;5;241m.\u001b[39mfit_predict(points_complete)\n",
      "File \u001b[1;32mc:\\users\\user\\appdata\\local\\programs\\python\\python39\\lib\\site-packages\\sklearn\\cluster\\_agglomerative.py:1051\u001b[0m, in \u001b[0;36mAgglomerativeClustering.fit_predict\u001b[1;34m(self, X, y)\u001b[0m\n\u001b[0;32m   1030\u001b[0m \u001b[38;5;28;01mdef\u001b[39;00m \u001b[38;5;21mfit_predict\u001b[39m(\u001b[38;5;28mself\u001b[39m, X, y\u001b[38;5;241m=\u001b[39m\u001b[38;5;28;01mNone\u001b[39;00m):\n\u001b[0;32m   1031\u001b[0m     \u001b[38;5;124;03m\"\"\"Fit and return the result of each sample's clustering assignment.\u001b[39;00m\n\u001b[0;32m   1032\u001b[0m \n\u001b[0;32m   1033\u001b[0m \u001b[38;5;124;03m    In addition to fitting, this method also return the result of the\u001b[39;00m\n\u001b[1;32m   (...)\u001b[0m\n\u001b[0;32m   1049\u001b[0m \u001b[38;5;124;03m        Cluster labels.\u001b[39;00m\n\u001b[0;32m   1050\u001b[0m \u001b[38;5;124;03m    \"\"\"\u001b[39;00m\n\u001b[1;32m-> 1051\u001b[0m     \u001b[38;5;28;01mreturn\u001b[39;00m \u001b[38;5;28;43msuper\u001b[39;49m\u001b[43m(\u001b[49m\u001b[43m)\u001b[49m\u001b[38;5;241;43m.\u001b[39;49m\u001b[43mfit_predict\u001b[49m\u001b[43m(\u001b[49m\u001b[43mX\u001b[49m\u001b[43m,\u001b[49m\u001b[43m \u001b[49m\u001b[43my\u001b[49m\u001b[43m)\u001b[49m\n",
      "File \u001b[1;32mc:\\users\\user\\appdata\\local\\programs\\python\\python39\\lib\\site-packages\\sklearn\\base.py:751\u001b[0m, in \u001b[0;36mClusterMixin.fit_predict\u001b[1;34m(self, X, y)\u001b[0m\n\u001b[0;32m    733\u001b[0m \u001b[38;5;124;03m\"\"\"\u001b[39;00m\n\u001b[0;32m    734\u001b[0m \u001b[38;5;124;03mPerform clustering on `X` and returns cluster labels.\u001b[39;00m\n\u001b[0;32m    735\u001b[0m \n\u001b[1;32m   (...)\u001b[0m\n\u001b[0;32m    747\u001b[0m \u001b[38;5;124;03m    Cluster labels.\u001b[39;00m\n\u001b[0;32m    748\u001b[0m \u001b[38;5;124;03m\"\"\"\u001b[39;00m\n\u001b[0;32m    749\u001b[0m \u001b[38;5;66;03m# non-optimized default implementation; override when a better\u001b[39;00m\n\u001b[0;32m    750\u001b[0m \u001b[38;5;66;03m# method is possible for a given clustering algorithm\u001b[39;00m\n\u001b[1;32m--> 751\u001b[0m \u001b[38;5;28;43mself\u001b[39;49m\u001b[38;5;241;43m.\u001b[39;49m\u001b[43mfit\u001b[49m\u001b[43m(\u001b[49m\u001b[43mX\u001b[49m\u001b[43m)\u001b[49m\n\u001b[0;32m    752\u001b[0m \u001b[38;5;28;01mreturn\u001b[39;00m \u001b[38;5;28mself\u001b[39m\u001b[38;5;241m.\u001b[39mlabels_\n",
      "File \u001b[1;32mc:\\users\\user\\appdata\\local\\programs\\python\\python39\\lib\\site-packages\\sklearn\\cluster\\_agglomerative.py:914\u001b[0m, in \u001b[0;36mAgglomerativeClustering.fit\u001b[1;34m(self, X, y)\u001b[0m\n\u001b[0;32m    896\u001b[0m \u001b[38;5;28;01mdef\u001b[39;00m \u001b[38;5;21mfit\u001b[39m(\u001b[38;5;28mself\u001b[39m, X, y\u001b[38;5;241m=\u001b[39m\u001b[38;5;28;01mNone\u001b[39;00m):\n\u001b[0;32m    897\u001b[0m     \u001b[38;5;124;03m\"\"\"Fit the hierarchical clustering from features, or distance matrix.\u001b[39;00m\n\u001b[0;32m    898\u001b[0m \n\u001b[0;32m    899\u001b[0m \u001b[38;5;124;03m    Parameters\u001b[39;00m\n\u001b[1;32m   (...)\u001b[0m\n\u001b[0;32m    912\u001b[0m \u001b[38;5;124;03m        Returns the fitted instance.\u001b[39;00m\n\u001b[0;32m    913\u001b[0m \u001b[38;5;124;03m    \"\"\"\u001b[39;00m\n\u001b[1;32m--> 914\u001b[0m     X \u001b[38;5;241m=\u001b[39m \u001b[38;5;28;43mself\u001b[39;49m\u001b[38;5;241;43m.\u001b[39;49m\u001b[43m_validate_data\u001b[49m\u001b[43m(\u001b[49m\u001b[43mX\u001b[49m\u001b[43m,\u001b[49m\u001b[43m \u001b[49m\u001b[43mensure_min_samples\u001b[49m\u001b[38;5;241;43m=\u001b[39;49m\u001b[38;5;241;43m2\u001b[39;49m\u001b[43m)\u001b[49m\n\u001b[0;32m    915\u001b[0m     \u001b[38;5;28;01mreturn\u001b[39;00m \u001b[38;5;28mself\u001b[39m\u001b[38;5;241m.\u001b[39m_fit(X)\n",
      "File \u001b[1;32mc:\\users\\user\\appdata\\local\\programs\\python\\python39\\lib\\site-packages\\sklearn\\base.py:577\u001b[0m, in \u001b[0;36mBaseEstimator._validate_data\u001b[1;34m(self, X, y, reset, validate_separately, **check_params)\u001b[0m\n\u001b[0;32m    575\u001b[0m     \u001b[38;5;28;01mraise\u001b[39;00m \u001b[38;5;167;01mValueError\u001b[39;00m(\u001b[38;5;124m\"\u001b[39m\u001b[38;5;124mValidation should be done on X, y or both.\u001b[39m\u001b[38;5;124m\"\u001b[39m)\n\u001b[0;32m    576\u001b[0m \u001b[38;5;28;01melif\u001b[39;00m \u001b[38;5;129;01mnot\u001b[39;00m no_val_X \u001b[38;5;129;01mand\u001b[39;00m no_val_y:\n\u001b[1;32m--> 577\u001b[0m     X \u001b[38;5;241m=\u001b[39m check_array(X, input_name\u001b[38;5;241m=\u001b[39m\u001b[38;5;124m\"\u001b[39m\u001b[38;5;124mX\u001b[39m\u001b[38;5;124m\"\u001b[39m, \u001b[38;5;241m*\u001b[39m\u001b[38;5;241m*\u001b[39mcheck_params)\n\u001b[0;32m    578\u001b[0m     out \u001b[38;5;241m=\u001b[39m X\n\u001b[0;32m    579\u001b[0m \u001b[38;5;28;01melif\u001b[39;00m no_val_X \u001b[38;5;129;01mand\u001b[39;00m \u001b[38;5;129;01mnot\u001b[39;00m no_val_y:\n",
      "File \u001b[1;32mc:\\users\\user\\appdata\\local\\programs\\python\\python39\\lib\\site-packages\\sklearn\\utils\\validation.py:856\u001b[0m, in \u001b[0;36mcheck_array\u001b[1;34m(array, accept_sparse, accept_large_sparse, dtype, order, copy, force_all_finite, ensure_2d, allow_nd, ensure_min_samples, ensure_min_features, estimator, input_name)\u001b[0m\n\u001b[0;32m    854\u001b[0m         array \u001b[38;5;241m=\u001b[39m array\u001b[38;5;241m.\u001b[39mastype(dtype, casting\u001b[38;5;241m=\u001b[39m\u001b[38;5;124m\"\u001b[39m\u001b[38;5;124munsafe\u001b[39m\u001b[38;5;124m\"\u001b[39m, copy\u001b[38;5;241m=\u001b[39m\u001b[38;5;28;01mFalse\u001b[39;00m)\n\u001b[0;32m    855\u001b[0m     \u001b[38;5;28;01melse\u001b[39;00m:\n\u001b[1;32m--> 856\u001b[0m         array \u001b[38;5;241m=\u001b[39m \u001b[43mnp\u001b[49m\u001b[38;5;241;43m.\u001b[39;49m\u001b[43masarray\u001b[49m\u001b[43m(\u001b[49m\u001b[43marray\u001b[49m\u001b[43m,\u001b[49m\u001b[43m \u001b[49m\u001b[43morder\u001b[49m\u001b[38;5;241;43m=\u001b[39;49m\u001b[43morder\u001b[49m\u001b[43m,\u001b[49m\u001b[43m \u001b[49m\u001b[43mdtype\u001b[49m\u001b[38;5;241;43m=\u001b[39;49m\u001b[43mdtype\u001b[49m\u001b[43m)\u001b[49m\n\u001b[0;32m    857\u001b[0m \u001b[38;5;28;01mexcept\u001b[39;00m ComplexWarning \u001b[38;5;28;01mas\u001b[39;00m complex_warning:\n\u001b[0;32m    858\u001b[0m     \u001b[38;5;28;01mraise\u001b[39;00m \u001b[38;5;167;01mValueError\u001b[39;00m(\n\u001b[0;32m    859\u001b[0m         \u001b[38;5;124m\"\u001b[39m\u001b[38;5;124mComplex data not supported\u001b[39m\u001b[38;5;130;01m\\n\u001b[39;00m\u001b[38;5;132;01m{}\u001b[39;00m\u001b[38;5;130;01m\\n\u001b[39;00m\u001b[38;5;124m\"\u001b[39m\u001b[38;5;241m.\u001b[39mformat(array)\n\u001b[0;32m    860\u001b[0m     ) \u001b[38;5;28;01mfrom\u001b[39;00m \u001b[38;5;21;01mcomplex_warning\u001b[39;00m\n",
      "\u001b[1;31mValueError\u001b[0m: could not convert string to float: 'BTS'"
     ]
    }
   ],
   "source": [
    "pr_linkage = agglo_linkage.fit_predict(points_linkage)\n",
    "pr_complete = agglo_complete.fit_predict(points_complete)"
   ]
  },
  {
   "cell_type": "code",
   "execution_count": 115,
   "id": "64c68789",
   "metadata": {},
   "outputs": [
    {
     "ename": "NameError",
     "evalue": "name 'pr_linkage' is not defined",
     "output_type": "error",
     "traceback": [
      "\u001b[1;31m---------------------------------------------------------------------------\u001b[0m",
      "\u001b[1;31mNameError\u001b[0m                                 Traceback (most recent call last)",
      "Cell \u001b[1;32mIn [115], line 2\u001b[0m\n\u001b[0;32m      1\u001b[0m plt\u001b[38;5;241m.\u001b[39mfigure(\u001b[38;5;241m1\u001b[39m, figsize\u001b[38;5;241m=\u001b[39m(\u001b[38;5;241m7\u001b[39m,\u001b[38;5;241m7\u001b[39m))\n\u001b[1;32m----> 2\u001b[0m plt\u001b[38;5;241m.\u001b[39mscatter(points_linkage[\u001b[43mpr_linkage\u001b[49m\u001b[38;5;241m==\u001b[39m\u001b[38;5;241m0\u001b[39m,\u001b[38;5;241m0\u001b[39m], points_linkage[pr_linkage\u001b[38;5;241m==\u001b[39m\u001b[38;5;241m0\u001b[39m,\u001b[38;5;241m1\u001b[39m], \n\u001b[0;32m      3\u001b[0m            s\u001b[38;5;241m=\u001b[39m\u001b[38;5;241m30\u001b[39m, c\u001b[38;5;241m=\u001b[39m\u001b[38;5;124m'\u001b[39m\u001b[38;5;124mred\u001b[39m\u001b[38;5;124m'\u001b[39m)\n\u001b[0;32m      4\u001b[0m plt\u001b[38;5;241m.\u001b[39mscatter(points_linkage[pr_linkage\u001b[38;5;241m==\u001b[39m\u001b[38;5;241m1\u001b[39m,\u001b[38;5;241m0\u001b[39m], points_linkage[pr_linkage\u001b[38;5;241m==\u001b[39m\u001b[38;5;241m1\u001b[39m,\u001b[38;5;241m1\u001b[39m], \n\u001b[0;32m      5\u001b[0m            s\u001b[38;5;241m=\u001b[39m\u001b[38;5;241m30\u001b[39m, c\u001b[38;5;241m=\u001b[39m\u001b[38;5;124m'\u001b[39m\u001b[38;5;124mblue\u001b[39m\u001b[38;5;124m'\u001b[39m)\n\u001b[0;32m      6\u001b[0m plt\u001b[38;5;241m.\u001b[39mscatter(points_linkage[pr_linkage\u001b[38;5;241m==\u001b[39m\u001b[38;5;241m2\u001b[39m,\u001b[38;5;241m0\u001b[39m], points_linkage[pr_linkage\u001b[38;5;241m==\u001b[39m\u001b[38;5;241m2\u001b[39m,\u001b[38;5;241m1\u001b[39m], \n\u001b[0;32m      7\u001b[0m            s\u001b[38;5;241m=\u001b[39m\u001b[38;5;241m30\u001b[39m, c\u001b[38;5;241m=\u001b[39m\u001b[38;5;124m'\u001b[39m\u001b[38;5;124mgreen\u001b[39m\u001b[38;5;124m'\u001b[39m)\n",
      "\u001b[1;31mNameError\u001b[0m: name 'pr_linkage' is not defined"
     ]
    },
    {
     "data": {
      "text/plain": [
       "<Figure size 700x700 with 0 Axes>"
      ]
     },
     "metadata": {},
     "output_type": "display_data"
    }
   ],
   "source": [
    "plt.figure(1, figsize=(7,7))\n",
    "plt.scatter(points_linkage[pr_linkage==0,0], points_linkage[pr_linkage==0,1], \n",
    "           s=30, c='red')\n",
    "plt.scatter(points_linkage[pr_linkage==1,0], points_linkage[pr_linkage==1,1], \n",
    "           s=30, c='blue')\n",
    "plt.scatter(points_linkage[pr_linkage==2,0], points_linkage[pr_linkage==2,1], \n",
    "           s=30, c='green')\n",
    "\n",
    "plt.figure(2, figsize=(7,7))\n",
    "plt.scatter(points_complete[pr_linkage==0,0], points_complete[pr_linkage==0,1], \n",
    "           s=30, c='red')\n",
    "plt.scatter(points_complete[pr_linkage==1,0], points_complete[pr_linkage==1,1], \n",
    "           s=30, c='blue')\n",
    "plt.scatter(points_complete[pr_linkage==2,0], points_complete[pr_linkage==2,1], \n",
    "           s=30, c='green')\n",
    "\n",
    "plt.show()"
   ]
  },
  {
   "cell_type": "code",
   "execution_count": 116,
   "id": "89107ecf",
   "metadata": {},
   "outputs": [
    {
     "ename": "NameError",
     "evalue": "name 'pr_linkage' is not defined",
     "output_type": "error",
     "traceback": [
      "\u001b[1;31m---------------------------------------------------------------------------\u001b[0m",
      "\u001b[1;31mNameError\u001b[0m                                 Traceback (most recent call last)",
      "Cell \u001b[1;32mIn [116], line 1\u001b[0m\n\u001b[1;32m----> 1\u001b[0m points_linkage[\u001b[43mpr_linkage\u001b[49m\u001b[38;5;241m==\u001b[39m\u001b[38;5;241m0\u001b[39m,\u001b[38;5;241m0\u001b[39m]\n",
      "\u001b[1;31mNameError\u001b[0m: name 'pr_linkage' is not defined"
     ]
    }
   ],
   "source": [
    "points_linkage[pr_linkage==0,0]"
   ]
  },
  {
   "cell_type": "code",
   "execution_count": 117,
   "id": "a1350b2c",
   "metadata": {},
   "outputs": [
    {
     "data": {
      "text/plain": [
       "pandas.core.frame.DataFrame"
      ]
     },
     "execution_count": 117,
     "metadata": {},
     "output_type": "execute_result"
    }
   ],
   "source": [
    "bt_array = pd.read_csv('SpotifyBTS.csv')\n",
    "type(bt_array)"
   ]
  },
  {
   "cell_type": "code",
   "execution_count": 118,
   "id": "e016ff73",
   "metadata": {},
   "outputs": [
    {
     "data": {
      "text/html": [
       "<div>\n",
       "<style scoped>\n",
       "    .dataframe tbody tr th:only-of-type {\n",
       "        vertical-align: middle;\n",
       "    }\n",
       "\n",
       "    .dataframe tbody tr th {\n",
       "        vertical-align: top;\n",
       "    }\n",
       "\n",
       "    .dataframe thead th {\n",
       "        text-align: right;\n",
       "    }\n",
       "</style>\n",
       "<table border=\"1\" class=\"dataframe\">\n",
       "  <thead>\n",
       "    <tr style=\"text-align: right;\">\n",
       "      <th></th>\n",
       "      <th>Unnamed: 0</th>\n",
       "      <th>Title</th>\n",
       "      <th>Artist</th>\n",
       "      <th>Release</th>\n",
       "      <th>danceability</th>\n",
       "      <th>energy</th>\n",
       "      <th>key</th>\n",
       "      <th>loudness</th>\n",
       "      <th>mode</th>\n",
       "      <th>speechiness</th>\n",
       "      <th>acousticness</th>\n",
       "      <th>instrumentalness</th>\n",
       "      <th>liveness</th>\n",
       "      <th>valence</th>\n",
       "      <th>tempo</th>\n",
       "      <th>id</th>\n",
       "      <th>duration_ms</th>\n",
       "    </tr>\n",
       "  </thead>\n",
       "  <tbody>\n",
       "    <tr>\n",
       "      <th>0</th>\n",
       "      <td>1</td>\n",
       "      <td>Like</td>\n",
       "      <td>BTS</td>\n",
       "      <td>2013/6/12</td>\n",
       "      <td>0.582</td>\n",
       "      <td>0.726</td>\n",
       "      <td>0</td>\n",
       "      <td>-4.174</td>\n",
       "      <td>0</td>\n",
       "      <td>0.1160</td>\n",
       "      <td>0.27100</td>\n",
       "      <td>0.000000</td>\n",
       "      <td>0.227</td>\n",
       "      <td>0.768</td>\n",
       "      <td>100.450</td>\n",
       "      <td>1HQHuPpr2s2z3VIBTLtUmv</td>\n",
       "      <td>231883</td>\n",
       "    </tr>\n",
       "    <tr>\n",
       "      <th>1</th>\n",
       "      <td>2</td>\n",
       "      <td>No More Dream</td>\n",
       "      <td>BTS</td>\n",
       "      <td>2013/6/12</td>\n",
       "      <td>0.436</td>\n",
       "      <td>0.869</td>\n",
       "      <td>2</td>\n",
       "      <td>-5.174</td>\n",
       "      <td>1</td>\n",
       "      <td>0.4720</td>\n",
       "      <td>0.01240</td>\n",
       "      <td>0.000002</td>\n",
       "      <td>0.494</td>\n",
       "      <td>0.612</td>\n",
       "      <td>167.766</td>\n",
       "      <td>4frlkLwlnm58ejpNwWjxyl</td>\n",
       "      <td>221593</td>\n",
       "    </tr>\n",
       "    <tr>\n",
       "      <th>2</th>\n",
       "      <td>3</td>\n",
       "      <td>We Are Bulletproof Pt.2</td>\n",
       "      <td>BTS</td>\n",
       "      <td>2013/6/12</td>\n",
       "      <td>0.754</td>\n",
       "      <td>0.952</td>\n",
       "      <td>8</td>\n",
       "      <td>-5.110</td>\n",
       "      <td>0</td>\n",
       "      <td>0.1530</td>\n",
       "      <td>0.00945</td>\n",
       "      <td>0.000006</td>\n",
       "      <td>0.189</td>\n",
       "      <td>0.868</td>\n",
       "      <td>144.051</td>\n",
       "      <td>2Kspa0jD2MSkaEdonf4Cnb</td>\n",
       "      <td>225360</td>\n",
       "    </tr>\n",
       "    <tr>\n",
       "      <th>3</th>\n",
       "      <td>4</td>\n",
       "      <td>Attack on Bangtan</td>\n",
       "      <td>BTS</td>\n",
       "      <td>2013/9/11</td>\n",
       "      <td>0.722</td>\n",
       "      <td>0.961</td>\n",
       "      <td>11</td>\n",
       "      <td>-2.548</td>\n",
       "      <td>0</td>\n",
       "      <td>0.2670</td>\n",
       "      <td>0.20300</td>\n",
       "      <td>0.000000</td>\n",
       "      <td>0.121</td>\n",
       "      <td>0.678</td>\n",
       "      <td>118.016</td>\n",
       "      <td>6bCoSWW1zyQrwQDSMEmsVy</td>\n",
       "      <td>247160</td>\n",
       "    </tr>\n",
       "    <tr>\n",
       "      <th>4</th>\n",
       "      <td>5</td>\n",
       "      <td>Coffee</td>\n",
       "      <td>BTS</td>\n",
       "      <td>2013/9/11</td>\n",
       "      <td>0.652</td>\n",
       "      <td>0.794</td>\n",
       "      <td>0</td>\n",
       "      <td>-6.604</td>\n",
       "      <td>1</td>\n",
       "      <td>0.0957</td>\n",
       "      <td>0.00808</td>\n",
       "      <td>0.000000</td>\n",
       "      <td>0.298</td>\n",
       "      <td>0.545</td>\n",
       "      <td>92.045</td>\n",
       "      <td>0Tb8sBQ9fseZbDRzRSxTdi</td>\n",
       "      <td>261453</td>\n",
       "    </tr>\n",
       "  </tbody>\n",
       "</table>\n",
       "</div>"
      ],
      "text/plain": [
       "   Unnamed: 0                    Title Artist    Release  danceability  \\\n",
       "0           1                     Like    BTS  2013/6/12         0.582   \n",
       "1           2            No More Dream    BTS  2013/6/12         0.436   \n",
       "2           3  We Are Bulletproof Pt.2    BTS  2013/6/12         0.754   \n",
       "3           4        Attack on Bangtan    BTS  2013/9/11         0.722   \n",
       "4           5                   Coffee    BTS  2013/9/11         0.652   \n",
       "\n",
       "   energy  key  loudness  mode  speechiness  acousticness  instrumentalness  \\\n",
       "0   0.726    0    -4.174     0       0.1160       0.27100          0.000000   \n",
       "1   0.869    2    -5.174     1       0.4720       0.01240          0.000002   \n",
       "2   0.952    8    -5.110     0       0.1530       0.00945          0.000006   \n",
       "3   0.961   11    -2.548     0       0.2670       0.20300          0.000000   \n",
       "4   0.794    0    -6.604     1       0.0957       0.00808          0.000000   \n",
       "\n",
       "   liveness  valence    tempo                      id  duration_ms  \n",
       "0     0.227    0.768  100.450  1HQHuPpr2s2z3VIBTLtUmv       231883  \n",
       "1     0.494    0.612  167.766  4frlkLwlnm58ejpNwWjxyl       221593  \n",
       "2     0.189    0.868  144.051  2Kspa0jD2MSkaEdonf4Cnb       225360  \n",
       "3     0.121    0.678  118.016  6bCoSWW1zyQrwQDSMEmsVy       247160  \n",
       "4     0.298    0.545   92.045  0Tb8sBQ9fseZbDRzRSxTdi       261453  "
      ]
     },
     "execution_count": 118,
     "metadata": {},
     "output_type": "execute_result"
    }
   ],
   "source": [
    "df_bt = pd.read_csv('SpotifyBTS.csv')\n",
    "df_bt.head(5)"
   ]
  },
  {
   "cell_type": "code",
   "execution_count": 135,
   "id": "7e7201fe",
   "metadata": {},
   "outputs": [],
   "source": [
    "points = df_bt[['key', 'mode']]"
   ]
  },
  {
   "cell_type": "code",
   "execution_count": 136,
   "id": "22f92232",
   "metadata": {},
   "outputs": [
    {
     "data": {
      "image/png": "[encoded data removed]",
      "text/plain": [
       "<Figure size 640x480 with 1 Axes>"
      ]
     },
     "metadata": {},
     "output_type": "display_data"
    }
   ],
   "source": [
    "plt.scatter(points['key'], points['mode'])\n",
    "plt.show()"
   ]
  },
  {
   "cell_type": "code",
   "execution_count": 137,
   "id": "d996068a",
   "metadata": {},
   "outputs": [],
   "source": [
    "from sklearn.cluster import KMeans"
   ]
  },
  {
   "cell_type": "code",
   "execution_count": 138,
   "id": "3177b414",
   "metadata": {},
   "outputs": [],
   "source": [
    "model = KMeans(n_clusters=2 )"
   ]
  },
  {
   "cell_type": "code",
   "execution_count": 139,
   "id": "b96c7afe",
   "metadata": {},
   "outputs": [
    {
     "data": {
      "text/html": [
       "<style>#sk-container-id-2 {color: black;background-color: white;}#sk-container-id-2 pre{padding: 0;}#sk-container-id-2 div.sk-toggleable {background-color: white;}#sk-container-id-2 label.sk-toggleable__label {cursor: pointer;display: block;width: 100%;margin-bottom: 0;padding: 0.3em;box-sizing: border-box;text-align: center;}#sk-container-id-2 label.sk-toggleable__label-arrow:before {content: \"▸\";float: left;margin-right: 0.25em;color: #696969;}#sk-container-id-2 label.sk-toggleable__label-arrow:hover:before {color: black;}#sk-container-id-2 div.sk-estimator:hover label.sk-toggleable__label-arrow:before {color: black;}#sk-container-id-2 div.sk-toggleable__content {max-height: 0;max-width: 0;overflow: hidden;text-align: left;background-color: #f0f8ff;}#sk-container-id-2 div.sk-toggleable__content pre {margin: 0.2em;color: black;border-radius: 0.25em;background-color: #f0f8ff;}#sk-container-id-2 input.sk-toggleable__control:checked~div.sk-toggleable__content {max-height: 200px;max-width: 100%;overflow: auto;}#sk-container-id-2 input.sk-toggleable__control:checked~label.sk-toggleable__label-arrow:before {content: \"▾\";}#sk-container-id-2 div.sk-estimator input.sk-toggleable__control:checked~label.sk-toggleable__label {background-color: #d4ebff;}#sk-container-id-2 div.sk-label input.sk-toggleable__control:checked~label.sk-toggleable__label {background-color: #d4ebff;}#sk-container-id-2 input.sk-hidden--visually {border: 0;clip: rect(1px 1px 1px 1px);clip: rect(1px, 1px, 1px, 1px);height: 1px;margin: -1px;overflow: hidden;padding: 0;position: absolute;width: 1px;}#sk-container-id-2 div.sk-estimator {font-family: monospace;background-color: #f0f8ff;border: 1px dotted black;border-radius: 0.25em;box-sizing: border-box;margin-bottom: 0.5em;}#sk-container-id-2 div.sk-estimator:hover {background-color: #d4ebff;}#sk-container-id-2 div.sk-parallel-item::after {content: \"\";width: 100%;border-bottom: 1px solid gray;flex-grow: 1;}#sk-container-id-2 div.sk-label:hover label.sk-toggleable__label {background-color: #d4ebff;}#sk-container-id-2 div.sk-serial::before {content: \"\";position: absolute;border-left: 1px solid gray;box-sizing: border-box;top: 0;bottom: 0;left: 50%;z-index: 0;}#sk-container-id-2 div.sk-serial {display: flex;flex-direction: column;align-items: center;background-color: white;padding-right: 0.2em;padding-left: 0.2em;position: relative;}#sk-container-id-2 div.sk-item {position: relative;z-index: 1;}#sk-container-id-2 div.sk-parallel {display: flex;align-items: stretch;justify-content: center;background-color: white;position: relative;}#sk-container-id-2 div.sk-item::before, #sk-container-id-2 div.sk-parallel-item::before {content: \"\";position: absolute;border-left: 1px solid gray;box-sizing: border-box;top: 0;bottom: 0;left: 50%;z-index: -1;}#sk-container-id-2 div.sk-parallel-item {display: flex;flex-direction: column;z-index: 1;position: relative;background-color: white;}#sk-container-id-2 div.sk-parallel-item:first-child::after {align-self: flex-end;width: 50%;}#sk-container-id-2 div.sk-parallel-item:last-child::after {align-self: flex-start;width: 50%;}#sk-container-id-2 div.sk-parallel-item:only-child::after {width: 0;}#sk-container-id-2 div.sk-dashed-wrapped {border: 1px dashed gray;margin: 0 0.4em 0.5em 0.4em;box-sizing: border-box;padding-bottom: 0.4em;background-color: white;}#sk-container-id-2 div.sk-label label {font-family: monospace;font-weight: bold;display: inline-block;line-height: 1.2em;}#sk-container-id-2 div.sk-label-container {text-align: center;}#sk-container-id-2 div.sk-container {/* jupyter's `normalize.less` sets `[hidden] { display: none; }` but bootstrap.min.css set `[hidden] { display: none !important; }` so we also need the `!important` here to be able to override the default hidden behavior on the sphinx rendered scikit-learn.org. See: https://github.com/scikit-learn/scikit-learn/issues/21755 */display: inline-block !important;position: relative;}#sk-container-id-2 div.sk-text-repr-fallback {display: none;}</style><div id=\"sk-container-id-2\" class=\"sk-top-container\"><div class=\"sk-text-repr-fallback\"><pre>KMeans(n_clusters=2)</pre><b>In a Jupyter environment, please rerun this cell to show the HTML representation or trust the notebook. <br />On GitHub, the HTML representation is unable to render, please try loading this page with nbviewer.org.</b></div><div class=\"sk-container\" hidden><div class=\"sk-item\"><div class=\"sk-estimator sk-toggleable\"><input class=\"sk-toggleable__control sk-hidden--visually\" id=\"sk-estimator-id-2\" type=\"checkbox\" checked><label for=\"sk-estimator-id-2\" class=\"sk-toggleable__label sk-toggleable__label-arrow\">KMeans</label><div class=\"sk-toggleable__content\"><pre>KMeans(n_clusters=2)</pre></div></div></div></div></div>"
      ],
      "text/plain": [
       "KMeans(n_clusters=2)"
      ]
     },
     "execution_count": 139,
     "metadata": {},
     "output_type": "execute_result"
    }
   ],
   "source": [
    "model.fit(points)"
   ]
  },
  {
   "cell_type": "code",
   "execution_count": 140,
   "id": "798fa485",
   "metadata": {},
   "outputs": [],
   "source": [
    "labels = model.labels_"
   ]
  },
  {
   "cell_type": "code",
   "execution_count": 141,
   "id": "c0531ab5",
   "metadata": {},
   "outputs": [
    {
     "data": {
      "text/plain": [
       "array([1, 1, 0, 0, 1, 0, 0, 0, 1, 1, 0, 1, 0, 1, 0, 1, 1, 0, 0, 0, 0, 1,\n",
       "       0, 1, 1, 0, 1, 0, 1, 1, 1, 0, 0, 0, 0, 0, 0, 0, 0, 0, 1, 0, 1, 0,\n",
       "       1, 1, 0, 0, 0, 1, 0, 0, 0, 1, 0, 0, 1, 0, 1, 1, 1, 0, 0, 0, 1, 1,\n",
       "       0, 1, 0, 0, 0, 0, 1, 1, 1, 0, 0, 1, 1, 1, 1, 0, 0, 0, 1, 0, 1, 0,\n",
       "       0, 0, 0, 1, 0, 0, 0, 0, 0, 0, 0, 1, 0, 0, 0, 1, 0, 1, 1, 0, 1, 0,\n",
       "       0, 0, 1, 0, 1, 0, 1, 1, 0, 0, 0, 0, 1, 0, 0, 1, 0, 0, 0, 1, 1, 0,\n",
       "       0, 0, 0, 0, 0, 0, 0, 0, 0, 0, 0, 1, 1, 0, 1])"
      ]
     },
     "execution_count": 141,
     "metadata": {},
     "output_type": "execute_result"
    }
   ],
   "source": [
    "labels"
   ]
  },
  {
   "cell_type": "code",
   "execution_count": 142,
   "id": "3747b5b5",
   "metadata": {},
   "outputs": [],
   "source": [
    "centroid = model.cluster_centers_"
   ]
  },
  {
   "cell_type": "code",
   "execution_count": 143,
   "id": "ca8430a0",
   "metadata": {},
   "outputs": [
    {
     "data": {
      "text/plain": [
       "array([[7.94565217, 0.54347826],\n",
       "       [1.4       , 0.58181818]])"
      ]
     },
     "execution_count": 143,
     "metadata": {},
     "output_type": "execute_result"
    }
   ],
   "source": [
    "centroid"
   ]
  },
  {
   "cell_type": "code",
   "execution_count": 144,
   "id": "6bdcf644",
   "metadata": {},
   "outputs": [
    {
     "data": {
      "image/png": "[encoded data removed]",
      "text/plain": [
       "<Figure size 640x480 with 1 Axes>"
      ]
     },
     "metadata": {},
     "output_type": "display_data"
    }
   ],
   "source": [
    "plt.scatter(points['key'], points['mode'], alpha=.5, c=labels)\n",
    "plt.scatter(centroid[:,0], centroid[:,1], marker='D', s=50)\n",
    "plt.show()"
   ]
  },
  {
   "cell_type": "code",
   "execution_count": 145,
   "id": "5e9d5a6d",
   "metadata": {},
   "outputs": [
    {
     "data": {
      "image/png": "[encoded data removed]",
      "text/plain": [
       "<Figure size 640x480 with 1 Axes>"
      ]
     },
     "metadata": {},
     "output_type": "display_data"
    }
   ],
   "source": [
    "cluster_sum = range(1,5)\n",
    "inertia =[]\n",
    "\n",
    "for cluster in cluster_sum:\n",
    "    model = KMeans(n_clusters=cluster)\n",
    "    model.fit(points)\n",
    "    inertia.append(model.inertia_)\n",
    "    \n",
    "plt.plot(cluster_sum, inertia, '-o')\n",
    "plt.xticks(cluster_sum)\n",
    "plt.show()"
   ]
  },
  {
   "cell_type": "code",
   "execution_count": 146,
   "id": "633586ed",
   "metadata": {},
   "outputs": [
    {
     "data": {
      "text/html": [
       "<div>\n",
       "<style scoped>\n",
       "    .dataframe tbody tr th:only-of-type {\n",
       "        vertical-align: middle;\n",
       "    }\n",
       "\n",
       "    .dataframe tbody tr th {\n",
       "        vertical-align: top;\n",
       "    }\n",
       "\n",
       "    .dataframe thead th {\n",
       "        text-align: right;\n",
       "    }\n",
       "</style>\n",
       "<table border=\"1\" class=\"dataframe\">\n",
       "  <thead>\n",
       "    <tr style=\"text-align: right;\">\n",
       "      <th></th>\n",
       "      <th>Unnamed: 0</th>\n",
       "      <th>Title</th>\n",
       "      <th>Artist</th>\n",
       "      <th>Release</th>\n",
       "      <th>danceability</th>\n",
       "      <th>energy</th>\n",
       "      <th>key</th>\n",
       "      <th>loudness</th>\n",
       "      <th>mode</th>\n",
       "      <th>speechiness</th>\n",
       "      <th>acousticness</th>\n",
       "      <th>instrumentalness</th>\n",
       "      <th>liveness</th>\n",
       "      <th>valence</th>\n",
       "      <th>tempo</th>\n",
       "      <th>id</th>\n",
       "      <th>duration_ms</th>\n",
       "    </tr>\n",
       "  </thead>\n",
       "  <tbody>\n",
       "    <tr>\n",
       "      <th>0</th>\n",
       "      <td>1</td>\n",
       "      <td>Like</td>\n",
       "      <td>BTS</td>\n",
       "      <td>2013/6/12</td>\n",
       "      <td>0.582</td>\n",
       "      <td>0.726</td>\n",
       "      <td>0</td>\n",
       "      <td>-4.174</td>\n",
       "      <td>0</td>\n",
       "      <td>0.1160</td>\n",
       "      <td>0.27100</td>\n",
       "      <td>0.000000</td>\n",
       "      <td>0.227</td>\n",
       "      <td>0.768</td>\n",
       "      <td>100.450</td>\n",
       "      <td>1HQHuPpr2s2z3VIBTLtUmv</td>\n",
       "      <td>231883</td>\n",
       "    </tr>\n",
       "    <tr>\n",
       "      <th>1</th>\n",
       "      <td>2</td>\n",
       "      <td>No More Dream</td>\n",
       "      <td>BTS</td>\n",
       "      <td>2013/6/12</td>\n",
       "      <td>0.436</td>\n",
       "      <td>0.869</td>\n",
       "      <td>2</td>\n",
       "      <td>-5.174</td>\n",
       "      <td>1</td>\n",
       "      <td>0.4720</td>\n",
       "      <td>0.01240</td>\n",
       "      <td>0.000002</td>\n",
       "      <td>0.494</td>\n",
       "      <td>0.612</td>\n",
       "      <td>167.766</td>\n",
       "      <td>4frlkLwlnm58ejpNwWjxyl</td>\n",
       "      <td>221593</td>\n",
       "    </tr>\n",
       "    <tr>\n",
       "      <th>2</th>\n",
       "      <td>3</td>\n",
       "      <td>We Are Bulletproof Pt.2</td>\n",
       "      <td>BTS</td>\n",
       "      <td>2013/6/12</td>\n",
       "      <td>0.754</td>\n",
       "      <td>0.952</td>\n",
       "      <td>8</td>\n",
       "      <td>-5.110</td>\n",
       "      <td>0</td>\n",
       "      <td>0.1530</td>\n",
       "      <td>0.00945</td>\n",
       "      <td>0.000006</td>\n",
       "      <td>0.189</td>\n",
       "      <td>0.868</td>\n",
       "      <td>144.051</td>\n",
       "      <td>2Kspa0jD2MSkaEdonf4Cnb</td>\n",
       "      <td>225360</td>\n",
       "    </tr>\n",
       "    <tr>\n",
       "      <th>3</th>\n",
       "      <td>4</td>\n",
       "      <td>Attack on Bangtan</td>\n",
       "      <td>BTS</td>\n",
       "      <td>2013/9/11</td>\n",
       "      <td>0.722</td>\n",
       "      <td>0.961</td>\n",
       "      <td>11</td>\n",
       "      <td>-2.548</td>\n",
       "      <td>0</td>\n",
       "      <td>0.2670</td>\n",
       "      <td>0.20300</td>\n",
       "      <td>0.000000</td>\n",
       "      <td>0.121</td>\n",
       "      <td>0.678</td>\n",
       "      <td>118.016</td>\n",
       "      <td>6bCoSWW1zyQrwQDSMEmsVy</td>\n",
       "      <td>247160</td>\n",
       "    </tr>\n",
       "    <tr>\n",
       "      <th>4</th>\n",
       "      <td>5</td>\n",
       "      <td>Coffee</td>\n",
       "      <td>BTS</td>\n",
       "      <td>2013/9/11</td>\n",
       "      <td>0.652</td>\n",
       "      <td>0.794</td>\n",
       "      <td>0</td>\n",
       "      <td>-6.604</td>\n",
       "      <td>1</td>\n",
       "      <td>0.0957</td>\n",
       "      <td>0.00808</td>\n",
       "      <td>0.000000</td>\n",
       "      <td>0.298</td>\n",
       "      <td>0.545</td>\n",
       "      <td>92.045</td>\n",
       "      <td>0Tb8sBQ9fseZbDRzRSxTdi</td>\n",
       "      <td>261453</td>\n",
       "    </tr>\n",
       "  </tbody>\n",
       "</table>\n",
       "</div>"
      ],
      "text/plain": [
       "   Unnamed: 0                    Title Artist    Release  danceability  \\\n",
       "0           1                     Like    BTS  2013/6/12         0.582   \n",
       "1           2            No More Dream    BTS  2013/6/12         0.436   \n",
       "2           3  We Are Bulletproof Pt.2    BTS  2013/6/12         0.754   \n",
       "3           4        Attack on Bangtan    BTS  2013/9/11         0.722   \n",
       "4           5                   Coffee    BTS  2013/9/11         0.652   \n",
       "\n",
       "   energy  key  loudness  mode  speechiness  acousticness  instrumentalness  \\\n",
       "0   0.726    0    -4.174     0       0.1160       0.27100          0.000000   \n",
       "1   0.869    2    -5.174     1       0.4720       0.01240          0.000002   \n",
       "2   0.952    8    -5.110     0       0.1530       0.00945          0.000006   \n",
       "3   0.961   11    -2.548     0       0.2670       0.20300          0.000000   \n",
       "4   0.794    0    -6.604     1       0.0957       0.00808          0.000000   \n",
       "\n",
       "   liveness  valence    tempo                      id  duration_ms  \n",
       "0     0.227    0.768  100.450  1HQHuPpr2s2z3VIBTLtUmv       231883  \n",
       "1     0.494    0.612  167.766  4frlkLwlnm58ejpNwWjxyl       221593  \n",
       "2     0.189    0.868  144.051  2Kspa0jD2MSkaEdonf4Cnb       225360  \n",
       "3     0.121    0.678  118.016  6bCoSWW1zyQrwQDSMEmsVy       247160  \n",
       "4     0.298    0.545   92.045  0Tb8sBQ9fseZbDRzRSxTdi       261453  "
      ]
     },
     "execution_count": 146,
     "metadata": {},
     "output_type": "execute_result"
    }
   ],
   "source": [
    "bt_array.head(5)"
   ]
  },
  {
   "cell_type": "code",
   "execution_count": null,
   "id": "4265cf67",
   "metadata": {},
   "outputs": [],
   "source": []
  }
 ],
 "metadata": {
  "kernelspec": {
   "display_name": "Python 3 (ipykernel)",
   "language": "python",
   "name": "python3"
  },
  "language_info": {
   "codemirror_mode": {
    "name": "ipython",
    "version": 3
   },
   "file_extension": ".py",
   "mimetype": "text/x-python",
   "name": "python",
   "nbconvert_exporter": "python",
   "pygments_lexer": "ipython3",
   "version": "3.9.5"
  }
 },
 "nbformat": 4,
 "nbformat_minor": 5
}
