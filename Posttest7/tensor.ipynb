{
 "cells": [
  {
   "cell_type": "markdown",
   "metadata": {},
   "source": [
    "POSTTEST 7 \n",
    "\n",
    "Nama : Millania Zahroh\n",
    "\n",
    "NIM  : 2009106140"
   ]
  },
  {
   "cell_type": "code",
   "execution_count": 112,
   "metadata": {},
   "outputs": [],
   "source": [
    "import tensorflow as tf\n",
    "import numpy as np"
   ]
  },
  {
   "cell_type": "markdown",
   "metadata": {},
   "source": [
    "Membuat sebuah tensor dengan shape(5,5) dengan nilai random yang disimpan di variable random_tensor"
   ]
  },
  {
   "cell_type": "code",
   "execution_count": 113,
   "metadata": {},
   "outputs": [
    {
     "data": {
      "text/plain": [
       "array([[ 2.02671  , -3.230219 , -6.2138243,  0.2523315,  6.757255 ],\n",
       "       [ 6.0529137, -1.8087049,  7.068322 , -7.2351074,  3.0085888],\n",
       "       [ 8.086762 , -6.7871304, 10.82916  ,  7.7002   ,  6.158907 ],\n",
       "       [-7.987301 ,  3.258838 ,  7.344916 ,  3.5079923,  3.3209865],\n",
       "       [ 2.1158302,  5.6114187,  3.8723116,  1.5220953,  9.092854 ]],\n",
       "      dtype=float32)"
      ]
     },
     "execution_count": 113,
     "metadata": {},
     "output_type": "execute_result"
    }
   ],
   "source": [
    "random_tensor = tf.random.normal([5,5], mean=2., stddev=5., seed=1)\n",
    "random_tensor.numpy()"
   ]
  },
  {
   "cell_type": "code",
   "execution_count": 114,
   "metadata": {},
   "outputs": [
    {
     "data": {
      "text/plain": [
       "array([[ 1,  3,  5,  7,  9],\n",
       "       [11, 13, 15, 17, 19],\n",
       "       [21, 23, 25, 27, 29],\n",
       "       [31, 33, 35, 37, 39],\n",
       "       [41, 43, 45, 47, 49]])"
      ]
     },
     "execution_count": 114,
     "metadata": {},
     "output_type": "execute_result"
    }
   ],
   "source": [
    "list_utt = [[1,3,5,7,9],[11,13,15,17,19],[21,23,25,27,29],[31,33,35,37,39],[41,43,45,47,49]]\n",
    "\n",
    "utt = tf.convert_to_tensor(list_utt)\n",
    "utt.numpy()"
   ]
  },
  {
   "cell_type": "markdown",
   "metadata": {},
   "source": [
    "Slicing"
   ]
  },
  {
   "cell_type": "code",
   "execution_count": 115,
   "metadata": {},
   "outputs": [
    {
     "data": {
      "text/plain": [
       "array([[[ 0.78638065, -0.75815547,  0.27119565,  0.9974266 ,\n",
       "         -0.54590315],\n",
       "        [-2.0451512 ,  0.12828982,  1.4906409 ,  0.7682289 ,\n",
       "          0.65665567],\n",
       "        [ 0.25843298,  1.0701345 ,  0.93951565, -1.5787479 ,\n",
       "         -1.6174239 ],\n",
       "        [-0.07817815,  1.396611  ,  1.0033491 ,  0.8887313 ,\n",
       "          0.04807568],\n",
       "        [-0.6992763 , -0.9467381 ,  1.7748348 ,  0.01255743,\n",
       "          0.41172665]],\n",
       "\n",
       "       [[-0.74413687,  2.2621307 ,  2.0271912 , -0.51846683,\n",
       "         -0.37950215],\n",
       "        [-0.48303893, -0.63177794, -0.7434608 ,  0.5148944 ,\n",
       "         -2.007295  ],\n",
       "        [-1.4039257 ,  0.3674582 ,  0.9869303 , -1.8080088 ,\n",
       "          0.37657553],\n",
       "        [-1.2953317 ,  0.20160617, -0.3056423 ,  0.39536244,\n",
       "          0.6627734 ],\n",
       "        [ 0.4568802 ,  1.481022  , -1.6529326 ,  1.0591874 ,\n",
       "          2.0128982 ]],\n",
       "\n",
       "       [[ 0.33970442, -0.830786  ,  0.6860306 , -0.07446154,\n",
       "          0.65991443],\n",
       "        [ 1.4982294 ,  1.6307356 , -0.9330077 ,  1.0110312 ,\n",
       "         -0.96379966],\n",
       "        [ 0.17842555, -1.478445  , -0.29158542,  0.14574882,\n",
       "         -0.613106  ],\n",
       "        [ 0.30547845,  0.17161047,  1.2468284 , -0.4603483 ,\n",
       "          1.0554421 ],\n",
       "        [-1.6772046 , -1.0445212 ,  0.4468963 ,  0.17943545,\n",
       "          0.3614453 ]],\n",
       "\n",
       "       [[-1.1620096 ,  1.5678296 , -0.67065084,  0.5027863 ,\n",
       "          0.12024327],\n",
       "        [-0.3673789 , -1.6304309 , -1.158086  , -0.650678  ,\n",
       "          3.3539336 ],\n",
       "        [ 0.831597  ,  1.8496542 ,  0.02412421,  0.60372764,\n",
       "          1.0267569 ],\n",
       "        [ 1.1595788 , -1.473556  , -0.16598581,  0.36443833,\n",
       "          1.2822449 ],\n",
       "        [-1.3360822 ,  0.80111855, -0.9304521 , -1.5713643 ,\n",
       "          1.1792579 ]],\n",
       "\n",
       "       [[ 0.81564575,  0.6384059 , -0.97121465,  0.11293069,\n",
       "         -0.4486319 ],\n",
       "        [ 0.34092444,  0.62311935,  0.20371768, -0.50304216,\n",
       "          0.5018192 ],\n",
       "        [ 1.4121355 , -0.5571786 , -0.24458683,  1.938909  ,\n",
       "         -0.6946103 ],\n",
       "        [-0.8576237 ,  0.08664917, -0.07826111, -0.22316997,\n",
       "          0.07821853],\n",
       "        [-0.28324142, -0.9955831 , -1.9190643 ,  0.45715412,\n",
       "          2.180462  ]]], dtype=float32)"
      ]
     },
     "execution_count": 115,
     "metadata": {},
     "output_type": "execute_result"
    }
   ],
   "source": [
    "slicing = tf.random.normal([5,5,5])\n",
    "slicing.numpy()"
   ]
  },
  {
   "cell_type": "code",
   "execution_count": 116,
   "metadata": {},
   "outputs": [
    {
     "data": {
      "text/plain": [
       "<tf.Tensor: shape=(), dtype=float32, numpy=0.36443833>"
      ]
     },
     "execution_count": 116,
     "metadata": {},
     "output_type": "execute_result"
    }
   ],
   "source": [
    "slicing[3,3,3]"
   ]
  },
  {
   "cell_type": "code",
   "execution_count": 117,
   "metadata": {},
   "outputs": [
    {
     "data": {
      "text/plain": [
       "<tf.Tensor: shape=(5, 5), dtype=float32, numpy=\n",
       "array([[-1.1620096 ,  1.5678296 , -0.67065084,  0.5027863 ,  0.12024327],\n",
       "       [-0.3673789 , -1.6304309 , -1.158086  , -0.650678  ,  3.3539336 ],\n",
       "       [ 0.831597  ,  1.8496542 ,  0.02412421,  0.60372764,  1.0267569 ],\n",
       "       [ 1.1595788 , -1.473556  , -0.16598581,  0.36443833,  1.2822449 ],\n",
       "       [-1.3360822 ,  0.80111855, -0.9304521 , -1.5713643 ,  1.1792579 ]],\n",
       "      dtype=float32)>"
      ]
     },
     "execution_count": 117,
     "metadata": {},
     "output_type": "execute_result"
    }
   ],
   "source": [
    "\n",
    "slicing[3]\n"
   ]
  },
  {
   "cell_type": "code",
   "execution_count": 118,
   "metadata": {},
   "outputs": [
    {
     "data": {
      "text/plain": [
       "array([[[-1.1620096 ,  1.5678296 , -0.67065084,  0.5027863 ,\n",
       "          0.12024327],\n",
       "        [-0.3673789 , -1.6304309 , -1.158086  , -0.650678  ,\n",
       "          3.3539336 ],\n",
       "        [ 0.831597  ,  1.8496542 ,  0.02412421,  0.60372764,\n",
       "          1.0267569 ],\n",
       "        [ 1.1595788 , -1.473556  , -0.16598581,  0.36443833,\n",
       "          1.2822449 ],\n",
       "        [-1.3360822 ,  0.80111855, -0.9304521 , -1.5713643 ,\n",
       "          1.1792579 ]],\n",
       "\n",
       "       [[-1.1620096 ,  1.5678296 , -0.67065084,  0.5027863 ,\n",
       "          0.12024327],\n",
       "        [-0.3673789 , -1.6304309 , -1.158086  , -0.650678  ,\n",
       "          3.3539336 ],\n",
       "        [ 0.831597  ,  1.8496542 ,  0.02412421,  0.60372764,\n",
       "          1.0267569 ],\n",
       "        [ 1.1595788 , -1.473556  , -0.16598581,  0.36443833,\n",
       "          1.2822449 ],\n",
       "        [-1.3360822 ,  0.80111855, -0.9304521 , -1.5713643 ,\n",
       "          1.1792579 ]],\n",
       "\n",
       "       [[-1.1620096 ,  1.5678296 , -0.67065084,  0.5027863 ,\n",
       "          0.12024327],\n",
       "        [-0.3673789 , -1.6304309 , -1.158086  , -0.650678  ,\n",
       "          3.3539336 ],\n",
       "        [ 0.831597  ,  1.8496542 ,  0.02412421,  0.60372764,\n",
       "          1.0267569 ],\n",
       "        [ 1.1595788 , -1.473556  , -0.16598581,  0.36443833,\n",
       "          1.2822449 ],\n",
       "        [-1.3360822 ,  0.80111855, -0.9304521 , -1.5713643 ,\n",
       "          1.1792579 ]]], dtype=float32)"
      ]
     },
     "execution_count": 118,
     "metadata": {},
     "output_type": "execute_result"
    }
   ],
   "source": [
    "tf.gather(slicing, indices=[3,3,3]).numpy()"
   ]
  },
  {
   "cell_type": "code",
   "execution_count": 119,
   "metadata": {},
   "outputs": [
    {
     "data": {
      "text/plain": [
       "array([ 0.93951565,  0.9869303 , -0.29158542,  0.02412421, -0.24458683],\n",
       "      dtype=float32)"
      ]
     },
     "execution_count": 119,
     "metadata": {},
     "output_type": "execute_result"
    }
   ],
   "source": [
    "tf.gather_nd(slicing, indices=[[0,2,2],[1,2,2],[2,2,2],[3,2,2],[4,2,2]]).numpy()"
   ]
  },
  {
   "cell_type": "markdown",
   "metadata": {},
   "source": [
    "Membuat sebuah tensor dengan shape(5,5) dari sebuah list dengan nilai bilangan prima di variable prime_tensor"
   ]
  },
  {
   "cell_type": "code",
   "execution_count": 120,
   "metadata": {},
   "outputs": [
    {
     "data": {
      "text/plain": [
       "array([[ 2.,  3.,  5.,  7., 11.],\n",
       "       [13., 17., 19., 23., 29.],\n",
       "       [31., 37., 41., 43., 47.],\n",
       "       [53., 59., 61., 71., 73.],\n",
       "       [79., 83., 89., 97.,  1.]], dtype=float32)"
      ]
     },
     "execution_count": 120,
     "metadata": {},
     "output_type": "execute_result"
    }
   ],
   "source": [
    "list_prime = [[2, 3, 5, 7, 11],[13, 17, 19, 23, 29],[31, 37, 41, 43, 47],[53, 59, 61, 71, 73],[79, 83, 89, 97, 1]]\n",
    "\n",
    "prime_tensor = tf.constant(list_prime, dtype=tf.float32)\n",
    "prime_tensor.numpy()"
   ]
  },
  {
   "cell_type": "markdown",
   "metadata": {},
   "source": [
    "Tampilkan dimensi dari kedua variable tersebut"
   ]
  },
  {
   "cell_type": "code",
   "execution_count": 121,
   "metadata": {},
   "outputs": [
    {
     "data": {
      "text/plain": [
       "TensorShape([5, 5])"
      ]
     },
     "execution_count": 121,
     "metadata": {},
     "output_type": "execute_result"
    }
   ],
   "source": [
    "random_tensor.shape"
   ]
  },
  {
   "cell_type": "code",
   "execution_count": 122,
   "metadata": {},
   "outputs": [
    {
     "data": {
      "text/plain": [
       "TensorShape([5, 5])"
      ]
     },
     "execution_count": 122,
     "metadata": {},
     "output_type": "execute_result"
    }
   ],
   "source": [
    "prime_tensor.shape"
   ]
  },
  {
   "cell_type": "markdown",
   "metadata": {},
   "source": [
    "Tampilkan hasil dari perhitungan aritmetika 2 variable tersebut (Gunakan minimal 5 operator)"
   ]
  },
  {
   "cell_type": "code",
   "execution_count": 123,
   "metadata": {},
   "outputs": [
    {
     "name": "stdout",
     "output_type": "stream",
     "text": [
      "1. Penjumlahan : tf.Tensor(\n",
      "[[ 4.02671    -0.23021889 -1.2138243   7.2523317  17.757256  ]\n",
      " [19.052914   15.191296   26.068321   15.764893   32.00859   ]\n",
      " [39.08676    30.21287    51.82916    50.7002     53.158905  ]\n",
      " [45.0127     62.25884    68.34492    74.507996   76.320984  ]\n",
      " [81.11583    88.61142    92.872314   98.522095   10.092854  ]], shape=(5, 5), dtype=float32)\n",
      "\n",
      "2. Pengurangan : tf.Tensor(\n",
      "[[-2.6710033e-02  6.2302189e+00  1.1213824e+01  6.7476683e+00\n",
      "   4.2427449e+00]\n",
      " [ 6.9470863e+00  1.8808704e+01  1.1931678e+01  3.0235107e+01\n",
      "   2.5991411e+01]\n",
      " [ 2.2913239e+01  4.3787132e+01  3.0170841e+01  3.5299801e+01\n",
      "   4.0841095e+01]\n",
      " [ 6.0987301e+01  5.5741161e+01  5.3655083e+01  6.7492004e+01\n",
      "   6.9679016e+01]\n",
      " [ 7.6884171e+01  7.7388580e+01  8.5127686e+01  9.5477905e+01\n",
      "  -8.0928535e+00]], shape=(5, 5), dtype=float32)\n",
      "\n",
      "3. Perkalian : tf.Tensor(\n",
      "[[   4.05342     -9.690657   -31.069122     1.7663205   74.3298   ]\n",
      " [  78.68788    -30.747982   134.29813   -166.40747     87.24908  ]\n",
      " [ 250.68964   -251.12383    443.99554    331.1086     289.46863  ]\n",
      " [-423.32693    192.27144    448.03986    249.06744    242.43202  ]\n",
      " [ 167.15059    465.74774    344.63574    147.64325      9.092854 ]], shape=(5, 5), dtype=float32)\n",
      "\n",
      "4. Pembagian : tf.Tensor(\n",
      "[[ 0.986821   -0.92872965 -0.80465746 27.741285    1.62788   ]\n",
      " [ 2.147726   -9.398991    2.6880496  -3.1789439   9.6390705 ]\n",
      " [ 3.8334253  -5.4514937   3.786074    5.5842705   7.631224  ]\n",
      " [-6.6355333  18.104612    8.305064   20.239498   21.98142   ]\n",
      " [37.33759    14.791268   22.983688   63.72794     0.10997648]], shape=(5, 5), dtype=float32)\n",
      "\n",
      "5. Pangkat : tf.Tensor(\n",
      "[[4.0747457e+00 2.8760333e-02 4.5365239e-05 1.6339729e+00 1.0888198e+07]\n",
      " [5.5284445e+06 5.9495079e-03 1.0930561e+09 1.4052476e-10 2.5104652e+04]\n",
      " [1.1489145e+12 2.2720112e-11 2.9180585e+17 3.7847216e+12 1.9874449e+10]\n",
      " [1.6892341e-14 5.9009200e+05 1.2974703e+13 3.1203260e+06 1.5419492e+06]\n",
      " [1.0352772e+04 5.8715226e+10 3.5370852e+07 1.0569537e+03 1.0000000e+00]], shape=(5, 5), dtype=float32)\n"
     ]
    }
   ],
   "source": [
    "print(\"1. Penjumlahan :\",tf.add(prime_tensor,random_tensor))\n",
    "print(\"\\n2. Pengurangan :\",tf.subtract(prime_tensor,random_tensor))\n",
    "print(\"\\n3. Perkalian :\",tf.multiply(prime_tensor,random_tensor))\n",
    "print(\"\\n4. Pembagian :\",tf.divide(prime_tensor,random_tensor))\n",
    "print(\"\\n5. Pangkat :\",tf.pow(prime_tensor,random_tensor))\n"
   ]
  },
  {
   "cell_type": "markdown",
   "metadata": {},
   "source": [
    "Tampilkan nilai maksimal dan minimal dari variable random_tensor"
   ]
  },
  {
   "cell_type": "code",
   "execution_count": 124,
   "metadata": {},
   "outputs": [
    {
     "data": {
      "text/plain": [
       "array([2, 4, 2, 2, 4], dtype=int64)"
      ]
     },
     "execution_count": 124,
     "metadata": {},
     "output_type": "execute_result"
    }
   ],
   "source": [
    "tf.argmax(random_tensor, axis=0).numpy() # max baris random_tensor"
   ]
  },
  {
   "cell_type": "code",
   "execution_count": 125,
   "metadata": {},
   "outputs": [
    {
     "data": {
      "text/plain": [
       "array([4, 2, 2, 2, 4], dtype=int64)"
      ]
     },
     "execution_count": 125,
     "metadata": {},
     "output_type": "execute_result"
    }
   ],
   "source": [
    "tf.argmax(random_tensor, axis=1).numpy() # max kolom "
   ]
  },
  {
   "cell_type": "code",
   "execution_count": 126,
   "metadata": {},
   "outputs": [
    {
     "data": {
      "text/plain": [
       "array([3, 2, 0, 1, 1], dtype=int64)"
      ]
     },
     "execution_count": 126,
     "metadata": {},
     "output_type": "execute_result"
    }
   ],
   "source": [
    "tf.argmin(random_tensor, axis=0).numpy() # min baris random_tensor"
   ]
  },
  {
   "cell_type": "code",
   "execution_count": 127,
   "metadata": {},
   "outputs": [
    {
     "data": {
      "text/plain": [
       "array([2, 3, 1, 0, 3], dtype=int64)"
      ]
     },
     "execution_count": 127,
     "metadata": {},
     "output_type": "execute_result"
    }
   ],
   "source": [
    "tf.argmin(random_tensor, axis=1).numpy()  # min kolom "
   ]
  },
  {
   "cell_type": "markdown",
   "metadata": {},
   "source": [
    "Tampilkan hasil dari penggabungan variable random_tensor dengan prime_tensor (concatenation)"
   ]
  },
  {
   "cell_type": "code",
   "execution_count": 128,
   "metadata": {},
   "outputs": [
    {
     "data": {
      "text/plain": [
       "array([[ 2.02671  , -3.230219 , -6.2138243,  0.2523315,  6.757255 ],\n",
       "       [ 6.0529137, -1.8087049,  7.068322 , -7.2351074,  3.0085888],\n",
       "       [ 8.086762 , -6.7871304, 10.82916  ,  7.7002   ,  6.158907 ],\n",
       "       [-7.987301 ,  3.258838 ,  7.344916 ,  3.5079923,  3.3209865],\n",
       "       [ 2.1158302,  5.6114187,  3.8723116,  1.5220953,  9.092854 ],\n",
       "       [ 2.       ,  3.       ,  5.       ,  7.       , 11.       ],\n",
       "       [13.       , 17.       , 19.       , 23.       , 29.       ],\n",
       "       [31.       , 37.       , 41.       , 43.       , 47.       ],\n",
       "       [53.       , 59.       , 61.       , 71.       , 73.       ],\n",
       "       [79.       , 83.       , 89.       , 97.       ,  1.       ]],\n",
       "      dtype=float32)"
      ]
     },
     "execution_count": 128,
     "metadata": {},
     "output_type": "execute_result"
    }
   ],
   "source": [
    "tf.concat([random_tensor,prime_tensor], axis=0).numpy() # penggabungan baris"
   ]
  },
  {
   "cell_type": "code",
   "execution_count": 129,
   "metadata": {},
   "outputs": [
    {
     "data": {
      "text/plain": [
       "array([[ 2.02671  , -3.230219 , -6.2138243,  0.2523315,  6.757255 ,\n",
       "         2.       ,  3.       ,  5.       ,  7.       , 11.       ],\n",
       "       [ 6.0529137, -1.8087049,  7.068322 , -7.2351074,  3.0085888,\n",
       "        13.       , 17.       , 19.       , 23.       , 29.       ],\n",
       "       [ 8.086762 , -6.7871304, 10.82916  ,  7.7002   ,  6.158907 ,\n",
       "        31.       , 37.       , 41.       , 43.       , 47.       ],\n",
       "       [-7.987301 ,  3.258838 ,  7.344916 ,  3.5079923,  3.3209865,\n",
       "        53.       , 59.       , 61.       , 71.       , 73.       ],\n",
       "       [ 2.1158302,  5.6114187,  3.8723116,  1.5220953,  9.092854 ,\n",
       "        79.       , 83.       , 89.       , 97.       ,  1.       ]],\n",
       "      dtype=float32)"
      ]
     },
     "execution_count": 129,
     "metadata": {},
     "output_type": "execute_result"
    }
   ],
   "source": [
    "tf.concat([random_tensor,prime_tensor], axis=1).numpy() # penggabungan kolom"
   ]
  },
  {
   "cell_type": "markdown",
   "metadata": {},
   "source": [
    "Tampilkan hasil sorting dari kedua variable di atas. (descending)"
   ]
  },
  {
   "cell_type": "code",
   "execution_count": 130,
   "metadata": {},
   "outputs": [
    {
     "data": {
      "text/plain": [
       "array([[ 6.757255 ,  2.02671  ,  0.2523315, -3.230219 , -6.2138243],\n",
       "       [ 7.068322 ,  6.0529137,  3.0085888, -1.8087049, -7.2351074],\n",
       "       [10.82916  ,  8.086762 ,  7.7002   ,  6.158907 , -6.7871304],\n",
       "       [ 7.344916 ,  3.5079923,  3.3209865,  3.258838 , -7.987301 ],\n",
       "       [ 9.092854 ,  5.6114187,  3.8723116,  2.1158302,  1.5220953]],\n",
       "      dtype=float32)"
      ]
     },
     "execution_count": 130,
     "metadata": {},
     "output_type": "execute_result"
    }
   ],
   "source": [
    "sort_random_tensor1 = tf.sort(random_tensor, direction=\"DESCENDING\")\n",
    "sort_random_tensor1.numpy()"
   ]
  },
  {
   "cell_type": "code",
   "execution_count": 131,
   "metadata": {},
   "outputs": [
    {
     "data": {
      "text/plain": [
       "array([[4, 0, 3, 1, 2],\n",
       "       [2, 0, 4, 1, 3],\n",
       "       [2, 0, 3, 4, 1],\n",
       "       [2, 3, 4, 1, 0],\n",
       "       [4, 1, 2, 0, 3]])"
      ]
     },
     "execution_count": 131,
     "metadata": {},
     "output_type": "execute_result"
    }
   ],
   "source": [
    "sort_random_tensor2 = tf.argsort(random_tensor, direction=\"DESCENDING\")\n",
    "sort_random_tensor2.numpy()"
   ]
  },
  {
   "cell_type": "code",
   "execution_count": 132,
   "metadata": {},
   "outputs": [
    {
     "data": {
      "text/plain": [
       "array([[11.,  7.,  5.,  3.,  2.],\n",
       "       [29., 23., 19., 17., 13.],\n",
       "       [47., 43., 41., 37., 31.],\n",
       "       [73., 71., 61., 59., 53.],\n",
       "       [97., 89., 83., 79.,  1.]], dtype=float32)"
      ]
     },
     "execution_count": 132,
     "metadata": {},
     "output_type": "execute_result"
    }
   ],
   "source": [
    "sort_prime_tensor1 = tf.sort(prime_tensor, direction=\"DESCENDING\")\n",
    "sort_prime_tensor1.numpy()"
   ]
  },
  {
   "cell_type": "code",
   "execution_count": 133,
   "metadata": {},
   "outputs": [
    {
     "data": {
      "text/plain": [
       "array([[4, 3, 2, 1, 0],\n",
       "       [4, 3, 2, 1, 0],\n",
       "       [4, 3, 2, 1, 0],\n",
       "       [4, 3, 2, 1, 0],\n",
       "       [3, 2, 1, 0, 4]])"
      ]
     },
     "execution_count": 133,
     "metadata": {},
     "output_type": "execute_result"
    }
   ],
   "source": [
    "sort_prime_tensor2 = tf.argsort(prime_tensor, direction=\"DESCENDING\")\n",
    "sort_prime_tensor2.numpy()"
   ]
  }
 ],
 "metadata": {
  "kernelspec": {
   "display_name": "Python 3.9.5 64-bit",
   "language": "python",
   "name": "python3"
  },
  "language_info": {
   "codemirror_mode": {
    "name": "ipython",
    "version": 3
   },
   "file_extension": ".py",
   "mimetype": "text/x-python",
   "name": "python",
   "nbconvert_exporter": "python",
   "pygments_lexer": "ipython3",
   "version": "3.9.5"
  },
  "orig_nbformat": 4,
  "vscode": {
   "interpreter": {
    "hash": "cf92aa13fedf815d5c8dd192b8d835913fde3e8bc926b2a0ad6cc74ef2ba3ca2"
   }
  }
 },
 "nbformat": 4,
 "nbformat_minor": 2
}
