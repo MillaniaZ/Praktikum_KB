{
 "cells": [
  {
   "cell_type": "markdown",
   "id": "ef24ed98-b0a4-46fd-aefd-bfb42fb294ae",
   "metadata": {},
   "source": [
    "POSTTEST 8\n",
    "\n",
    "NAMA : Millania Zahroh\n",
    "\n",
    "Nim  : 2009106140"
   ]
  },
  {
   "cell_type": "code",
   "execution_count": 41,
   "id": "81bd689b-cc86-4180-ba0a-eff86d15278a",
   "metadata": {},
   "outputs": [],
   "source": [
    "import tensorflow as tf\n",
    "import tensorflow.keras.datasets as tfds\n",
    "import matplotlib.pyplot as plt\n",
    "import numpy as np"
   ]
  },
  {
   "cell_type": "code",
   "execution_count": 42,
   "id": "b3af7c38-953e-4369-97ba-ea410ef73c09",
   "metadata": {},
   "outputs": [],
   "source": [
    "(x_train_raw, y_train_raw), (x_test_raw, y_test_raw) = tfds.fashion_mnist.load_data()"
   ]
  },
  {
   "cell_type": "code",
   "execution_count": 43,
   "id": "baadc4fb-6a5f-48d9-a0c6-4ab55aa8c0f1",
   "metadata": {},
   "outputs": [
    {
     "name": "stdout",
     "output_type": "stream",
     "text": [
      "panjang x train:60000\n",
      "panjang y train:60000\n",
      "panjang x test:10000\n",
      "panjang y test:10000\n"
     ]
    }
   ],
   "source": [
    "print(f'panjang x train:{len(x_train_raw)}',\n",
    "      f'panjang y train:{len(y_train_raw)}', \n",
    "      f'panjang x test:{len(x_test_raw)}', \n",
    "      f'panjang y test:{len(y_test_raw)}',\n",
    "sep='\\n')"
   ]
  },
  {
   "cell_type": "code",
   "execution_count": 44,
   "id": "c1ab3ebd-fef6-481f-a961-52372ea8e500",
   "metadata": {},
   "outputs": [
    {
     "data": {
      "text/plain": [
       "<matplotlib.image.AxesImage at 0x1c2025a76a0>"
      ]
     },
     "execution_count": 44,
     "metadata": {},
     "output_type": "execute_result"
    },
    {
     "data": {
      "image/png": "[encoded data removed]",
      "text/plain": [
       "<Figure size 640x480 with 1 Axes>"
      ]
     },
     "metadata": {},
     "output_type": "display_data"
    }
   ],
   "source": [
    "plt.imshow(x_test_raw[123])"
   ]
  },
  {
   "cell_type": "code",
   "execution_count": 45,
   "id": "ced158a9-1587-4f5a-b080-88c7fecd294b",
   "metadata": {},
   "outputs": [],
   "source": [
    "num_class = len(np.unique(y_train_raw))\n",
    "y_train = tf.keras.utils.to_categorical(y_train_raw, num_class)\n",
    "y_test = tf.keras.utils.to_categorical(y_test_raw, num_class)"
   ]
  },
  {
   "cell_type": "code",
   "execution_count": 46,
   "id": "e3840f01-579f-45ec-a798-7aec66faac09",
   "metadata": {},
   "outputs": [
    {
     "data": {
      "text/plain": [
       "(60000, 28, 28)"
      ]
     },
     "execution_count": 46,
     "metadata": {},
     "output_type": "execute_result"
    }
   ],
   "source": [
    "x_train_raw.shape"
   ]
  },
  {
   "cell_type": "code",
   "execution_count": 47,
   "id": "05c396cf-67e5-46aa-8ccf-3dd31b93cd2c",
   "metadata": {},
   "outputs": [],
   "source": [
    "x_train = tf.reshape(x_train_raw,[60000, 784])\n",
    "x_test = tf.reshape(x_test_raw,[10000, 784])"
   ]
  },
  {
   "cell_type": "code",
   "execution_count": 48,
   "id": "6f4031f5-4aab-49c0-be41-bd0c9b40e03d",
   "metadata": {},
   "outputs": [
    {
     "data": {
      "text/plain": [
       "tensorflow.python.framework.ops.EagerTensor"
      ]
     },
     "execution_count": 48,
     "metadata": {},
     "output_type": "execute_result"
    }
   ],
   "source": [
    "type(x_train)"
   ]
  },
  {
   "cell_type": "code",
   "execution_count": 49,
   "id": "a84762e9-92fc-455e-b559-fbaa8fdbeab7",
   "metadata": {},
   "outputs": [],
   "source": [
    "x_train = tf.cast(x_train, tf.float32)/255\n",
    "x_test = tf.cast(x_test, tf.float32)/255"
   ]
  },
  {
   "cell_type": "code",
   "execution_count": 50,
   "id": "229c3899-e97a-448b-96a3-fd21f6da2b36",
   "metadata": {},
   "outputs": [],
   "source": [
    "model = tf.keras.Sequential([\n",
    "    tf.keras.layers.Dense(32, activation='relu', input_dim = 784),\n",
    "     tf.keras.layers.Dense(32, activation='relu'),\n",
    "      tf.keras.layers.Dense(num_class, activation='softmax')\n",
    "])"
   ]
  },
  {
   "cell_type": "code",
   "execution_count": 51,
   "id": "0a38a2a1-708b-4ea8-b8d9-d75168a57110",
   "metadata": {},
   "outputs": [
    {
     "name": "stdout",
     "output_type": "stream",
     "text": [
      "Model: \"sequential_1\"\n",
      "_________________________________________________________________\n",
      " Layer (type)                Output Shape              Param #   \n",
      "=================================================================\n",
      " dense_3 (Dense)             (None, 32)                25120     \n",
      "                                                                 \n",
      " dense_4 (Dense)             (None, 32)                1056      \n",
      "                                                                 \n",
      " dense_5 (Dense)             (None, 10)                330       \n",
      "                                                                 \n",
      "=================================================================\n",
      "Total params: 26,506\n",
      "Trainable params: 26,506\n",
      "Non-trainable params: 0\n",
      "_________________________________________________________________\n"
     ]
    }
   ],
   "source": [
    "model.summary()"
   ]
  },
  {
   "cell_type": "code",
   "execution_count": 52,
   "id": "a87a65f3-445a-45a2-95ab-a5fb6f0223eb",
   "metadata": {},
   "outputs": [],
   "source": [
    "model.compile(\n",
    "    optimizer=tf.keras.optimizers.Adam(), \n",
    "    loss=tf.keras.losses.categorical_crossentropy,\n",
    "    metrics=['accuracy']\n",
    ")"
   ]
  },
  {
   "cell_type": "code",
   "execution_count": 54,
   "id": "fbdef82e-9c21-447e-b647-f96b3605f949",
   "metadata": {},
   "outputs": [
    {
     "name": "stdout",
     "output_type": "stream",
     "text": [
      "Epoch 1/25\n",
      "5/5 - 8s - loss: 0.4693 - accuracy: 0.8408 - val_loss: 0.4951 - val_accuracy: 0.8284 - 8s/epoch - 2s/step\n",
      "Epoch 2/25\n",
      "5/5 - 3s - loss: 0.4636 - accuracy: 0.8420 - val_loss: 0.4899 - val_accuracy: 0.8288 - 3s/epoch - 596ms/step\n",
      "Epoch 3/25\n",
      "5/5 - 3s - loss: 0.4580 - accuracy: 0.8436 - val_loss: 0.4850 - val_accuracy: 0.8304 - 3s/epoch - 605ms/step\n",
      "Epoch 4/25\n",
      "5/5 - 3s - loss: 0.4526 - accuracy: 0.8453 - val_loss: 0.4805 - val_accuracy: 0.8317 - 3s/epoch - 566ms/step\n",
      "Epoch 5/25\n",
      "5/5 - 3s - loss: 0.4480 - accuracy: 0.8469 - val_loss: 0.4767 - val_accuracy: 0.8318 - 3s/epoch - 503ms/step\n",
      "Epoch 6/25\n",
      "5/5 - 3s - loss: 0.4433 - accuracy: 0.8479 - val_loss: 0.4732 - val_accuracy: 0.8316 - 3s/epoch - 544ms/step\n",
      "Epoch 7/25\n",
      "5/5 - 3s - loss: 0.4392 - accuracy: 0.8495 - val_loss: 0.4708 - val_accuracy: 0.8321 - 3s/epoch - 519ms/step\n",
      "Epoch 8/25\n",
      "5/5 - 3s - loss: 0.4359 - accuracy: 0.8499 - val_loss: 0.4673 - val_accuracy: 0.8335 - 3s/epoch - 512ms/step\n",
      "Epoch 9/25\n",
      "5/5 - 3s - loss: 0.4322 - accuracy: 0.8511 - val_loss: 0.4633 - val_accuracy: 0.8377 - 3s/epoch - 548ms/step\n",
      "Epoch 10/25\n",
      "5/5 - 2s - loss: 0.4287 - accuracy: 0.8532 - val_loss: 0.4610 - val_accuracy: 0.8362 - 2s/epoch - 500ms/step\n",
      "Epoch 11/25\n",
      "5/5 - 3s - loss: 0.4252 - accuracy: 0.8527 - val_loss: 0.4573 - val_accuracy: 0.8364 - 3s/epoch - 573ms/step\n",
      "Epoch 12/25\n",
      "5/5 - 3s - loss: 0.4223 - accuracy: 0.8547 - val_loss: 0.4535 - val_accuracy: 0.8396 - 3s/epoch - 561ms/step\n",
      "Epoch 13/25\n",
      "5/5 - 3s - loss: 0.4181 - accuracy: 0.8563 - val_loss: 0.4509 - val_accuracy: 0.8421 - 3s/epoch - 528ms/step\n",
      "Epoch 14/25\n",
      "5/5 - 3s - loss: 0.4152 - accuracy: 0.8568 - val_loss: 0.4475 - val_accuracy: 0.8424 - 3s/epoch - 508ms/step\n",
      "Epoch 15/25\n",
      "5/5 - 3s - loss: 0.4122 - accuracy: 0.8582 - val_loss: 0.4450 - val_accuracy: 0.8434 - 3s/epoch - 507ms/step\n",
      "Epoch 16/25\n",
      "5/5 - 3s - loss: 0.4096 - accuracy: 0.8586 - val_loss: 0.4446 - val_accuracy: 0.8447 - 3s/epoch - 506ms/step\n",
      "Epoch 17/25\n",
      "5/5 - 3s - loss: 0.4073 - accuracy: 0.8587 - val_loss: 0.4412 - val_accuracy: 0.8453 - 3s/epoch - 580ms/step\n",
      "Epoch 18/25\n",
      "5/5 - 3s - loss: 0.4045 - accuracy: 0.8599 - val_loss: 0.4390 - val_accuracy: 0.8470 - 3s/epoch - 586ms/step\n",
      "Epoch 19/25\n",
      "5/5 - 2s - loss: 0.4024 - accuracy: 0.8605 - val_loss: 0.4370 - val_accuracy: 0.8464 - 2s/epoch - 480ms/step\n",
      "Epoch 20/25\n",
      "5/5 - 3s - loss: 0.3997 - accuracy: 0.8621 - val_loss: 0.4345 - val_accuracy: 0.8471 - 3s/epoch - 517ms/step\n",
      "Epoch 21/25\n",
      "5/5 - 3s - loss: 0.3974 - accuracy: 0.8625 - val_loss: 0.4353 - val_accuracy: 0.8472 - 3s/epoch - 527ms/step\n",
      "Epoch 22/25\n",
      "5/5 - 2s - loss: 0.3960 - accuracy: 0.8630 - val_loss: 0.4317 - val_accuracy: 0.8475 - 2s/epoch - 493ms/step\n",
      "Epoch 23/25\n",
      "5/5 - 3s - loss: 0.3930 - accuracy: 0.8641 - val_loss: 0.4311 - val_accuracy: 0.8484 - 3s/epoch - 521ms/step\n",
      "Epoch 24/25\n",
      "5/5 - 3s - loss: 0.3920 - accuracy: 0.8637 - val_loss: 0.4290 - val_accuracy: 0.8497 - 3s/epoch - 586ms/step\n",
      "Epoch 25/25\n",
      "5/5 - 3s - loss: 0.3897 - accuracy: 0.8639 - val_loss: 0.4258 - val_accuracy: 0.8506 - 3s/epoch - 526ms/step\n"
     ]
    }
   ],
   "source": [
    "history = model.fit(\n",
    "    x_train, y_train,\n",
    "    epochs=25, steps_per_epoch=5,\n",
    "    verbose=2,\n",
    "    validation_data=(x_test, y_test)\n",
    ")"
   ]
  },
  {
   "cell_type": "code",
   "execution_count": 55,
   "id": "758fc9b5-f6b5-4304-a6f0-9c907308aca4",
   "metadata": {},
   "outputs": [
    {
     "data": {
      "image/png": "[encoded data removed]",
      "text/plain": [
       "<Figure size 640x480 with 1 Axes>"
      ]
     },
     "metadata": {},
     "output_type": "display_data"
    }
   ],
   "source": [
    "nilai_x = range(len(history.history['accuracy']))\n",
    "plt.plot(nilai_x, history.history['accuracy'], label = 'training')\n",
    "plt.plot(nilai_x, history.history['val_accuracy'], label = 'validation')\n",
    "plt.legend()\n",
    "plt.show()"
   ]
  },
  {
   "cell_type": "code",
   "execution_count": 56,
   "id": "caceb22f-4c7b-475f-8f90-982b8e0a85f9",
   "metadata": {},
   "outputs": [],
   "source": [
    "model.save('model/model.h5')"
   ]
  },
  {
   "cell_type": "code",
   "execution_count": 57,
   "id": "bf6e5ee5-8988-49e3-a77f-c745186b6303",
   "metadata": {},
   "outputs": [
    {
     "name": "stdout",
     "output_type": "stream",
     "text": [
      "Model: \"sequential_1\"\n",
      "_________________________________________________________________\n",
      " Layer (type)                Output Shape              Param #   \n",
      "=================================================================\n",
      " dense_3 (Dense)             (None, 32)                25120     \n",
      "                                                                 \n",
      " dense_4 (Dense)             (None, 32)                1056      \n",
      "                                                                 \n",
      " dense_5 (Dense)             (None, 10)                330       \n",
      "                                                                 \n",
      "=================================================================\n",
      "Total params: 26,506\n",
      "Trainable params: 26,506\n",
      "Non-trainable params: 0\n",
      "_________________________________________________________________\n"
     ]
    }
   ],
   "source": [
    "model_saved = tf.keras.models.load_model('model/model.h5')\n",
    "model_saved.summary()"
   ]
  },
  {
   "cell_type": "code",
   "execution_count": 58,
   "id": "e13726b5-6214-4a13-b6e0-0544442d555e",
   "metadata": {},
   "outputs": [
    {
     "name": "stdout",
     "output_type": "stream",
     "text": [
      "313/313 [==============================] - 7s 2ms/step - loss: 0.4258 - accuracy: 0.8506\n"
     ]
    },
    {
     "data": {
      "text/plain": [
       "[0.4258335530757904, 0.850600004196167]"
      ]
     },
     "execution_count": 58,
     "metadata": {},
     "output_type": "execute_result"
    }
   ],
   "source": [
    "model_saved.evaluate(x_test, y_test, batch_size=32)"
   ]
  },
  {
   "cell_type": "code",
   "execution_count": 59,
   "id": "67f89bb3-de82-4f3e-80fd-70f95b007439",
   "metadata": {},
   "outputs": [
    {
     "name": "stdout",
     "output_type": "stream",
     "text": [
      "313/313 [==============================] - 7s 2ms/step\n"
     ]
    }
   ],
   "source": [
    "hasil = model_saved.predict(x_test)"
   ]
  },
  {
   "cell_type": "code",
   "execution_count": 60,
   "id": "4188df09-77a0-4027-bf81-7c07d3cd9c5c",
   "metadata": {},
   "outputs": [
    {
     "data": {
      "text/plain": [
       "TensorShape([60000, 784])"
      ]
     },
     "execution_count": 60,
     "metadata": {},
     "output_type": "execute_result"
    }
   ],
   "source": [
    "x_train.shape"
   ]
  },
  {
   "cell_type": "code",
   "execution_count": 61,
   "id": "1c07fa11-847c-4bd7-9ea1-dca45fdf438e",
   "metadata": {},
   "outputs": [
    {
     "data": {
      "text/plain": [
       "array([0, 1, 2, 3, 4, 5, 6, 7, 8, 9], dtype=uint8)"
      ]
     },
     "execution_count": 61,
     "metadata": {},
     "output_type": "execute_result"
    }
   ],
   "source": [
    "np.unique(y_train_raw)"
   ]
  },
  {
   "cell_type": "code",
   "execution_count": 62,
   "id": "8d7b43c7-5541-4dba-9d94-42d6c1c7e562",
   "metadata": {},
   "outputs": [
    {
     "data": {
      "text/plain": [
       "9"
      ]
     },
     "execution_count": 62,
     "metadata": {},
     "output_type": "execute_result"
    }
   ],
   "source": [
    "tf.argmax(hasil[123]).numpy()"
   ]
  },
  {
   "cell_type": "code",
   "execution_count": 63,
   "id": "36a9085c-b20d-4052-ad2c-868be568b1d3",
   "metadata": {},
   "outputs": [
    {
     "data": {
      "text/plain": [
       "<matplotlib.image.AxesImage at 0x1c202e2c550>"
      ]
     },
     "execution_count": 63,
     "metadata": {},
     "output_type": "execute_result"
    },
    {
     "data": {
      "image/png": "[encoded data removed]",
      "text/plain": [
       "<Figure size 640x480 with 1 Axes>"
      ]
     },
     "metadata": {},
     "output_type": "display_data"
    }
   ],
   "source": [
    "plt.imshow(x_test_raw[1234])"
   ]
  },
  {
   "cell_type": "code",
   "execution_count": 64,
   "id": "aee1e555-00b2-48fb-857c-56d0995c240e",
   "metadata": {},
   "outputs": [
    {
     "data": {
      "text/plain": [
       "(10000, 10)"
      ]
     },
     "execution_count": 64,
     "metadata": {},
     "output_type": "execute_result"
    }
   ],
   "source": [
    "hasil.shape"
   ]
  },
  {
   "cell_type": "code",
   "execution_count": 65,
   "id": "ac98f998-bf8d-4eca-bcbc-79b2de79624e",
   "metadata": {},
   "outputs": [
    {
     "data": {
      "text/plain": [
       "array([5.3983709e-05, 9.9986243e-01, 3.9232636e-06, 3.9272785e-05,\n",
       "       2.7889504e-05, 1.4701410e-08, 9.0580070e-06, 2.1466466e-10,\n",
       "       3.4202508e-06, 1.1643343e-10], dtype=float32)"
      ]
     },
     "execution_count": 65,
     "metadata": {},
     "output_type": "execute_result"
    }
   ],
   "source": [
    "hasil[2]"
   ]
  },
  {
   "cell_type": "code",
   "execution_count": null,
   "id": "a61e5916-5be8-4177-adc5-b8d55e222b5c",
   "metadata": {},
   "outputs": [],
   "source": []
  }
 ],
 "metadata": {
  "kernelspec": {
   "display_name": "Python 3 (ipykernel)",
   "language": "python",
   "name": "python3"
  },
  "language_info": {
   "codemirror_mode": {
    "name": "ipython",
    "version": 3
   },
   "file_extension": ".py",
   "mimetype": "text/x-python",
   "name": "python",
   "nbconvert_exporter": "python",
   "pygments_lexer": "ipython3",
   "version": "3.9.5"
  }
 },
 "nbformat": 4,
 "nbformat_minor": 5
}
